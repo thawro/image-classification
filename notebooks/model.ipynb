{
 "cells": [
  {
   "cell_type": "code",
   "execution_count": 1,
   "id": "47471f7f-0291-43a0-8e16-202a30ddddc3",
   "metadata": {},
   "outputs": [],
   "source": [
    "%load_ext autoreload\n",
    "%autoreload 2\n",
    "\n",
    "import sys\n",
    "sys.path.append(\"../src\")"
   ]
  },
  {
   "cell_type": "code",
   "execution_count": 78,
   "id": "13798068-94af-4c42-9d05-9083239c1e9a",
   "metadata": {},
   "outputs": [],
   "source": [
    "from data import MNISTDatamodule\n",
    "from model import ImageClassifier\n",
    "from torch import nn\n",
    "from torchvision import transforms as T\n",
    "import pytorch_lightning as pl\n",
    "from architectures.resnet import ResNet"
   ]
  },
  {
   "cell_type": "code",
   "execution_count": 80,
   "id": "0058448e-c7a3-4262-b25b-e85eb604a6fa",
   "metadata": {},
   "outputs": [],
   "source": [
    "# mean = [0.485, 0.456, 0.406]\n",
    "# std = [0.229, 0.224, 0.225]\n",
    "mean = [0.1307]\n",
    "std = [0.3081]\n",
    "transform = T.Compose(\n",
    "    [\n",
    "        T.ToTensor(),\n",
    "        T.Normalize(mean=mean, std=std),\n",
    "        # nn.Flatten(start_dim=0, end_dim=-1)\n",
    "    ]\n",
    ")"
   ]
  },
  {
   "cell_type": "code",
   "execution_count": 81,
   "id": "fe45725b-7887-4e68-adb6-d0d27e72d313",
   "metadata": {},
   "outputs": [],
   "source": [
    "dm = MNISTDatamodule(\n",
    "    data_dir=\"../data\",\n",
    "    transform = transform,\n",
    ")"
   ]
  },
  {
   "cell_type": "code",
   "execution_count": 82,
   "id": "bae5d963-97eb-4773-9613-9115f7e600ab",
   "metadata": {},
   "outputs": [],
   "source": [
    "dm.download_data()\n",
    "dm.setup()"
   ]
  },
  {
   "cell_type": "code",
   "execution_count": 83,
   "id": "37953cc1-3ee6-48b9-befc-0d20a77c34d5",
   "metadata": {},
   "outputs": [],
   "source": [
    "X, y = next(iter(dm.train_dataloader()))"
   ]
  },
  {
   "cell_type": "code",
   "execution_count": 84,
   "id": "313e977e-65b9-4890-91c9-13953a7a0131",
   "metadata": {},
   "outputs": [],
   "source": [
    "from architectures.resnet import ResNet, BasicBlock, BottleneckBlock"
   ]
  },
  {
   "cell_type": "code",
   "execution_count": 85,
   "id": "726d7cfe-c529-498b-8a14-706d69965874",
   "metadata": {},
   "outputs": [
    {
     "data": {
      "text/plain": [
       "torch.Size([64, 1, 28, 28])"
      ]
     },
     "execution_count": 85,
     "metadata": {},
     "output_type": "execute_result"
    }
   ],
   "source": [
    "X.shape"
   ]
  },
  {
   "cell_type": "code",
   "execution_count": 99,
   "id": "8b056dd0-b1c1-4307-a7f3-8d70591bc7f9",
   "metadata": {},
   "outputs": [],
   "source": [
    "from torchinfo import summary\n",
    "import torch"
   ]
  },
  {
   "cell_type": "code",
   "execution_count": 101,
   "id": "9c136e51-44b0-43fd-8371-f216b0c37919",
   "metadata": {
    "collapsed": true,
    "jupyter": {
     "outputs_hidden": true
    },
    "tags": []
   },
   "outputs": [
    {
     "name": "stderr",
     "output_type": "stream",
     "text": [
      "/home/shate/.local/lib/python3.11/site-packages/torchinfo/torchinfo.py:477: UserWarning: TypedStorage is deprecated. It will be removed in the future and UntypedStorage will be the only storage class. This should only matter to you if you are using storages directly.  To access UntypedStorage directly, use tensor.untyped_storage() instead of tensor.storage()\n",
      "  action_fn=lambda data: sys.getsizeof(data.storage()),\n",
      "/home/shate/.local/lib/python3.11/site-packages/torch/storage.py:665: UserWarning: TypedStorage is deprecated. It will be removed in the future and UntypedStorage will be the only storage class. This should only matter to you if you are using storages directly.  To access UntypedStorage directly, use tensor.untyped_storage() instead of tensor.storage()\n",
      "  return super().__sizeof__() + self.nbytes()\n"
     ]
    },
    {
     "data": {
      "text/plain": [
       "====================================================================================================\n",
       "Layer (type:depth-idx)                             Output Shape              Param #\n",
       "====================================================================================================\n",
       "ResNet                                             [64, 256, 1, 1]           --\n",
       "├─Conv2d: 1-1                                      [64, 64, 13, 13]          640\n",
       "├─MaxPool2d: 1-2                                   [64, 64, 7, 7]            --\n",
       "├─BasicResNetCore: 1-3                             [64, 256, 2, 2]           --\n",
       "│    └─Sequential: 2-1                             [64, 256, 2, 2]           --\n",
       "│    │    └─Sequential: 3-1                        [64, 64, 7, 7]            74,112\n",
       "│    │    └─Sequential: 3-2                        [64, 128, 4, 4]           230,528\n",
       "│    │    └─Sequential: 3-3                        [64, 256, 2, 2]           919,808\n",
       "├─AdaptiveAvgPool2d: 1-4                           [64, 256, 1, 1]           --\n",
       "====================================================================================================\n",
       "Total params: 1,225,088\n",
       "Trainable params: 1,225,088\n",
       "Non-trainable params: 0\n",
       "Total mult-adds (Units.MEGABYTES): 709.05\n",
       "====================================================================================================\n",
       "Input size (MB): 0.20\n",
       "Forward/backward pass size (MB): 21.40\n",
       "Params size (MB): 4.90\n",
       "Estimated Total Size (MB): 26.50\n",
       "===================================================================================================="
      ]
     },
     "execution_count": 101,
     "metadata": {},
     "output_type": "execute_result"
    }
   ],
   "source": [
    "summary(resnet, input_size=X.shape)"
   ]
  },
  {
   "cell_type": "code",
   "execution_count": 102,
   "id": "d74f6e47-7ac5-4246-8b35-7224fa579f90",
   "metadata": {},
   "outputs": [],
   "source": [
    "resnet = ResNet(\n",
    "    in_channels=1,\n",
    "    stem_channels=64,\n",
    "    stem_kernel_size=3,\n",
    "    block_type=\"bottleneck\",\n",
    "    stages_n_blocks=[1, 1, 1],\n",
    "    pool_kernel_size=1\n",
    ")"
   ]
  },
  {
   "cell_type": "code",
   "execution_count": 104,
   "id": "c22fc545-c447-4d71-84c3-fb444fd0b837",
   "metadata": {},
   "outputs": [
    {
     "data": {
      "text/plain": [
       "torch.Size([64, 1024, 1, 1])"
      ]
     },
     "execution_count": 104,
     "metadata": {},
     "output_type": "execute_result"
    }
   ],
   "source": [
    "resnet(X).shape"
   ]
  },
  {
   "cell_type": "code",
   "execution_count": null,
   "id": "86cd5b17-36d9-43db-92f8-f3b91705d0eb",
   "metadata": {},
   "outputs": [],
   "source": []
  },
  {
   "cell_type": "code",
   "execution_count": null,
   "id": "683c700b-0d14-460c-91a5-b13159ae2909",
   "metadata": {},
   "outputs": [],
   "source": []
  }
 ],
 "metadata": {
  "kernelspec": {
   "display_name": "Python 3 (ipykernel)",
   "language": "python",
   "name": "python3"
  },
  "language_info": {
   "codemirror_mode": {
    "name": "ipython",
    "version": 3
   },
   "file_extension": ".py",
   "mimetype": "text/x-python",
   "name": "python",
   "nbconvert_exporter": "python",
   "pygments_lexer": "ipython3",
   "version": "3.11.2"
  }
 },
 "nbformat": 4,
 "nbformat_minor": 5
}
