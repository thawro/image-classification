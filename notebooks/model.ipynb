{
 "cells": [
  {
   "cell_type": "code",
   "execution_count": 3,
   "id": "47471f7f-0291-43a0-8e16-202a30ddddc3",
   "metadata": {},
   "outputs": [],
   "source": [
    "%load_ext autoreload\n",
    "%autoreload 2\n",
    "\n",
    "import sys\n",
    "sys.path.append(\"../src\")"
   ]
  },
  {
   "cell_type": "code",
   "execution_count": 6,
   "id": "13798068-94af-4c42-9d05-9083239c1e9a",
   "metadata": {},
   "outputs": [],
   "source": [
    "from architectures import SimpleCNN, MLP, ClassificationHead"
   ]
  },
  {
   "cell_type": "code",
   "execution_count": 5,
   "id": "5ff76c56-4657-44b4-a4a7-d328fb1efe73",
   "metadata": {},
   "outputs": [],
   "source": [
    "cnn = SimpleCNN(\n",
    "    in_channels=3,\n",
    "    out_channels=[16, 32, 64],\n",
    "    kernels=[3, 3, 3],\n",
    "    pool_kernels=[3, 1, 3]\n",
    ")"
   ]
  },
  {
   "cell_type": "code",
   "execution_count": null,
   "id": "5ae096d4-7975-4e80-98b9-3a3415157f75",
   "metadata": {},
   "outputs": [],
   "source": [
    "mlp = MLP(\n",
    "    in_dim = \n",
    ")"
   ]
  }
 ],
 "metadata": {
  "kernelspec": {
   "display_name": "Python 3 (ipykernel)",
   "language": "python",
   "name": "python3"
  },
  "language_info": {
   "codemirror_mode": {
    "name": "ipython",
    "version": 3
   },
   "file_extension": ".py",
   "mimetype": "text/x-python",
   "name": "python",
   "nbconvert_exporter": "python",
   "pygments_lexer": "ipython3",
   "version": "3.11.2"
  }
 },
 "nbformat": 4,
 "nbformat_minor": 5
}
