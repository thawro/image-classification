{
 "cells": [
  {
   "cell_type": "code",
   "execution_count": 1,
   "id": "47471f7f-0291-43a0-8e16-202a30ddddc3",
   "metadata": {},
   "outputs": [],
   "source": [
    "%load_ext autoreload\n",
    "%autoreload 2\n",
    "\n",
    "import sys\n",
    "sys.path.append(\"../src\")"
   ]
  },
  {
   "cell_type": "code",
   "execution_count": 8,
   "id": "13798068-94af-4c42-9d05-9083239c1e9a",
   "metadata": {},
   "outputs": [],
   "source": [
    "from data import MNISTDatamodule\n",
    "from model import ImageClassifier\n",
    "from torch import nn\n",
    "from torchvision import transforms as T\n",
    "import pytorch_lightning as pl\n",
    "from architectures.feature_extractors.resnet import ResNet"
   ]
  },
  {
   "cell_type": "code",
   "execution_count": 9,
   "id": "0058448e-c7a3-4262-b25b-e85eb604a6fa",
   "metadata": {},
   "outputs": [],
   "source": [
    "# mean = [0.485, 0.456, 0.406]\n",
    "# std = [0.229, 0.224, 0.225]\n",
    "mean = [0.1307]\n",
    "std = [0.3081]\n",
    "transform = T.Compose(\n",
    "    [\n",
    "        T.ToTensor(),\n",
    "        T.Normalize(mean=mean, std=std),\n",
    "        # nn.Flatten(start_dim=0, end_dim=-1)\n",
    "    ]\n",
    ")"
   ]
  },
  {
   "cell_type": "code",
   "execution_count": 10,
   "id": "fe45725b-7887-4e68-adb6-d0d27e72d313",
   "metadata": {},
   "outputs": [],
   "source": [
    "dm = MNISTDatamodule(\n",
    "    data_dir=\"../data\",\n",
    "    transform = transform,\n",
    ")"
   ]
  },
  {
   "cell_type": "code",
   "execution_count": 11,
   "id": "bae5d963-97eb-4773-9613-9115f7e600ab",
   "metadata": {},
   "outputs": [],
   "source": [
    "dm.download_data()\n",
    "dm.setup()"
   ]
  },
  {
   "cell_type": "code",
   "execution_count": 12,
   "id": "37953cc1-3ee6-48b9-befc-0d20a77c34d5",
   "metadata": {},
   "outputs": [],
   "source": [
    "X, y = next(iter(dm.train_dataloader()))"
   ]
  },
  {
   "cell_type": "code",
   "execution_count": 13,
   "id": "8b056dd0-b1c1-4307-a7f3-8d70591bc7f9",
   "metadata": {},
   "outputs": [],
   "source": [
    "from torchinfo import summary\n",
    "import torch"
   ]
  },
  {
   "cell_type": "code",
   "execution_count": 34,
   "id": "d74f6e47-7ac5-4246-8b35-7224fa579f90",
   "metadata": {},
   "outputs": [],
   "source": [
    "resnet = ResNet(\n",
    "    in_channels=1,\n",
    "    stem_channels=64,\n",
    "    stem_kernel_size=3,\n",
    "    block_type=\"basic\",\n",
    "    stages_n_blocks=[1, 3],\n",
    "    pool_kernel_size=1\n",
    ")"
   ]
  },
  {
   "cell_type": "code",
   "execution_count": 35,
   "id": "c22fc545-c447-4d71-84c3-fb444fd0b837",
   "metadata": {},
   "outputs": [
    {
     "data": {
      "text/plain": [
       "torch.Size([64, 128])"
      ]
     },
     "execution_count": 35,
     "metadata": {},
     "output_type": "execute_result"
    }
   ],
   "source": [
    "resnet(X).shape"
   ]
  },
  {
   "cell_type": "code",
   "execution_count": 36,
   "id": "e82eb335-fd86-4f7c-91b2-f3f22df4fdf2",
   "metadata": {},
   "outputs": [
    {
     "data": {
      "text/plain": [
       "128"
      ]
     },
     "execution_count": 36,
     "metadata": {},
     "output_type": "execute_result"
    }
   ],
   "source": [
    "resnet.out_shape"
   ]
  },
  {
   "cell_type": "code",
   "execution_count": 23,
   "id": "86cd5b17-36d9-43db-92f8-f3b91705d0eb",
   "metadata": {},
   "outputs": [
    {
     "data": {
      "text/plain": [
       "256"
      ]
     },
     "execution_count": 23,
     "metadata": {},
     "output_type": "execute_result"
    }
   ],
   "source": [
    "64 * (2**(3-1))"
   ]
  }
 ],
 "metadata": {
  "kernelspec": {
   "display_name": "Python 3 (ipykernel)",
   "language": "python",
   "name": "python3"
  },
  "language_info": {
   "codemirror_mode": {
    "name": "ipython",
    "version": 3
   },
   "file_extension": ".py",
   "mimetype": "text/x-python",
   "name": "python",
   "nbconvert_exporter": "python",
   "pygments_lexer": "ipython3",
   "version": "3.11.2"
  }
 },
 "nbformat": 4,
 "nbformat_minor": 5
}
