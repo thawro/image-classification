{
 "cells": [
  {
   "cell_type": "code",
   "execution_count": 2,
   "id": "3d15f412-c42a-43cd-999d-81bba815d7aa",
   "metadata": {
    "tags": []
   },
   "outputs": [
    {
     "name": "stdout",
     "output_type": "stream",
     "text": [
      "The autoreload extension is already loaded. To reload it, use:\n",
      "  %reload_ext autoreload\n"
     ]
    }
   ],
   "source": [
    "%load_ext autoreload\n",
    "%autoreload 2\n",
    "\n",
    "import torch\n",
    "from torchinfo import summary\n",
    "from src.architectures.feature_extractors.resnext import ResNext\n",
    "from src.architectures.feature_extractors.resnet import ResNet\n",
    "\n",
    "\n",
    "count_params = lambda model: sum(p.numel() for p in model.parameters() if p.requires_grad)\n",
    "\n",
    "img = torch.rand(1, 3, 224, 224)\n",
    "\n",
    "# summary(net, input_data=img)"
   ]
  },
  {
   "cell_type": "code",
   "execution_count": 57,
   "id": "54a89a7a",
   "metadata": {},
   "outputs": [],
   "source": [
    "net_local = ResNext(\n",
    "    3, \"resnext50_32x4d\", load_from_torch=False, pretrained=False, freeze_extractor=False\n",
    ")\n",
    "net_torch = ResNext(\n",
    "    3, \"resnext50_32x4d\", load_from_torch=True, pretrained=False, freeze_extractor=False\n",
    ")\n"
   ]
  },
  {
   "cell_type": "code",
   "execution_count": 58,
   "id": "c80c15a6",
   "metadata": {},
   "outputs": [
    {
     "data": {
      "text/plain": [
       "(torch.Size([1, 2048]), torch.Size([1, 2048]))"
      ]
     },
     "execution_count": 58,
     "metadata": {},
     "output_type": "execute_result"
    }
   ],
   "source": [
    "net_local(img).shape, net_torch(img).shape\n"
   ]
  },
  {
   "cell_type": "code",
   "execution_count": 59,
   "id": "e62a80bd",
   "metadata": {},
   "outputs": [
    {
     "data": {
      "text/plain": [
       "(22979904, 22979904)"
      ]
     },
     "execution_count": 59,
     "metadata": {},
     "output_type": "execute_result"
    }
   ],
   "source": [
    "count_params(net_local), count_params(net_torch)\n"
   ]
  },
  {
   "cell_type": "code",
   "execution_count": 33,
   "id": "6c2676c0",
   "metadata": {},
   "outputs": [],
   "source": [
    "# summary(net_local, input_data=img, depth=4, col_names=[\"input_size\", \"output_size\", \"num_params\", \"kernel_size\"])\n"
   ]
  },
  {
   "cell_type": "code",
   "execution_count": 34,
   "id": "0bf10774",
   "metadata": {},
   "outputs": [],
   "source": [
    "# summary(net_torch, input_data=img, col_names=[\"input_size\", \"output_size\", \"num_params\", \"kernel_size\"])\n"
   ]
  },
  {
   "cell_type": "code",
   "execution_count": 39,
   "id": "e95052f4",
   "metadata": {},
   "outputs": [
    {
     "data": {
      "text/plain": [
       "BottleneckBlock(\n",
       "  (conv1): CNNBlock(\n",
       "    (conv): Conv2d(2048, 512, kernel_size=(1, 1), stride=(1, 1), bias=False)\n",
       "    (batch_norm): BatchNorm2d(512, eps=1e-05, momentum=0.1, affine=True, track_running_stats=True)\n",
       "    (activation_fn): ReLU()\n",
       "  )\n",
       "  (conv2): CNNBlock(\n",
       "    (conv): Conv2d(512, 512, kernel_size=(3, 3), stride=(1, 1), padding=(1, 1), groups=64, bias=False)\n",
       "    (batch_norm): BatchNorm2d(512, eps=1e-05, momentum=0.1, affine=True, track_running_stats=True)\n",
       "    (activation_fn): ReLU()\n",
       "  )\n",
       "  (conv3): CNNBlock(\n",
       "    (conv): Conv2d(512, 2048, kernel_size=(1, 1), stride=(1, 1), bias=False)\n",
       "    (batch_norm): BatchNorm2d(2048, eps=1e-05, momentum=0.1, affine=True, track_running_stats=True)\n",
       "  )\n",
       "  (relu): ReLU()\n",
       ")"
      ]
     },
     "execution_count": 39,
     "metadata": {},
     "output_type": "execute_result"
    }
   ],
   "source": [
    "net_local.net[1].net.stage_1[1]\n"
   ]
  },
  {
   "cell_type": "code",
   "execution_count": 38,
   "id": "41677617",
   "metadata": {},
   "outputs": [
    {
     "data": {
      "text/plain": [
       "Bottleneck(\n",
       "  (conv1): Conv2d(256, 512, kernel_size=(1, 1), stride=(1, 1), bias=False)\n",
       "  (bn1): BatchNorm2d(512, eps=1e-05, momentum=0.1, affine=True, track_running_stats=True)\n",
       "  (conv2): Conv2d(512, 512, kernel_size=(3, 3), stride=(2, 2), padding=(1, 1), groups=64, bias=False)\n",
       "  (bn2): BatchNorm2d(512, eps=1e-05, momentum=0.1, affine=True, track_running_stats=True)\n",
       "  (conv3): Conv2d(512, 512, kernel_size=(1, 1), stride=(1, 1), bias=False)\n",
       "  (bn3): BatchNorm2d(512, eps=1e-05, momentum=0.1, affine=True, track_running_stats=True)\n",
       "  (relu): ReLU(inplace=True)\n",
       "  (downsample): Sequential(\n",
       "    (0): Conv2d(256, 512, kernel_size=(1, 1), stride=(2, 2), bias=False)\n",
       "    (1): BatchNorm2d(512, eps=1e-05, momentum=0.1, affine=True, track_running_stats=True)\n",
       "  )\n",
       ")"
      ]
     },
     "execution_count": 38,
     "metadata": {},
     "output_type": "execute_result"
    }
   ],
   "source": [
    "net_torch.net[0].layer2[0]\n"
   ]
  },
  {
   "cell_type": "code",
   "execution_count": 56,
   "id": "200e84d4",
   "metadata": {},
   "outputs": [
    {
     "data": {
      "text/plain": [
       "(21284672, 21284672)"
      ]
     },
     "execution_count": 56,
     "metadata": {},
     "output_type": "execute_result"
    }
   ],
   "source": [
    "net_local = ResNet(3, \"resnet34\", load_from_torch=False, pretrained=False, freeze_extractor=False)\n",
    "net_torch = ResNet(3, \"resnet34\", load_from_torch=True, pretrained=False, freeze_extractor=False)\n",
    "count_params(net_local), count_params(net_torch)\n"
   ]
  },
  {
   "cell_type": "code",
   "execution_count": null,
   "id": "2901bc3e",
   "metadata": {},
   "outputs": [],
   "source": []
  }
 ],
 "metadata": {
  "kernelspec": {
   "display_name": "image-classification-5tGgTKFW-py3.11",
   "language": "python",
   "name": "python3"
  },
  "language_info": {
   "codemirror_mode": {
    "name": "ipython",
    "version": 3
   },
   "file_extension": ".py",
   "mimetype": "text/x-python",
   "name": "python",
   "nbconvert_exporter": "python",
   "pygments_lexer": "ipython3",
   "version": "3.11.2"
  }
 },
 "nbformat": 4,
 "nbformat_minor": 5
}
