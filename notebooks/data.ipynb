{
 "cells": [
  {
   "cell_type": "code",
   "execution_count": 2,
   "id": "3d15f412-c42a-43cd-999d-81bba815d7aa",
   "metadata": {
    "tags": []
   },
   "outputs": [],
   "source": [
    "%load_ext autoreload\n",
    "%autoreload 2\n",
    "\n",
    "import torch\n",
    "from src.architectures.feature_extractors.mobilenet import MobilenetV2\n",
    "from src.architectures.feature_extractors.squeeze_net import SqueezeNet\n",
    "\n",
    "from torchinfo import summary\n",
    "\n",
    "img = torch.rand(1, 3, 224, 224)"
   ]
  },
  {
   "cell_type": "code",
   "execution_count": 25,
   "id": "a6aa31e1",
   "metadata": {},
   "outputs": [
    {
     "name": "stdout",
     "output_type": "stream",
     "text": [
      "3 [False, True, False, False, True, False, False, True] [96, 128, 128, 128, 256, 256, 256, 384, 384]\n"
     ]
    }
   ],
   "source": [
    "net = SqueezeNet(freq=3)"
   ]
  },
  {
   "cell_type": "code",
   "execution_count": 26,
   "id": "29bbc7bc",
   "metadata": {},
   "outputs": [
    {
     "data": {
      "text/plain": [
       "[96, 128, 128, 128, 256, 256, 256, 384, 384]"
      ]
     },
     "execution_count": 26,
     "metadata": {},
     "output_type": "execute_result"
    }
   ],
   "source": [
    "net.fb_in_channels"
   ]
  },
  {
   "cell_type": "code",
   "execution_count": 27,
   "id": "67f2569f",
   "metadata": {},
   "outputs": [
    {
     "name": "stdout",
     "output_type": "stream",
     "text": [
      "conv1 torch.Size([1, 96, 109, 109])\n",
      "maxpool1 torch.Size([1, 96, 54, 54])\n",
      "fire2 torch.Size([1, 128, 54, 54])\n",
      "fire3 torch.Size([1, 128, 54, 54])\n",
      "fire4 torch.Size([1, 128, 54, 54])\n",
      "maxpool4 torch.Size([1, 128, 26, 26])\n",
      "fire5 torch.Size([1, 256, 26, 26])\n",
      "fire6 torch.Size([1, 256, 26, 26])\n",
      "fire7 torch.Size([1, 256, 26, 26])\n",
      "fire8 torch.Size([1, 384, 26, 26])\n",
      "maxpool8 torch.Size([1, 384, 12, 12])\n",
      "fire9 torch.Size([1, 384, 12, 12])\n",
      "dropout9 torch.Size([1, 384, 12, 12])\n"
     ]
    }
   ],
   "source": [
    "out = net(img)"
   ]
  },
  {
   "cell_type": "code",
   "execution_count": 6,
   "id": "bbdea29a",
   "metadata": {},
   "outputs": [],
   "source": [
    "# summary(net, input_data=img)"
   ]
  },
  {
   "cell_type": "code",
   "execution_count": null,
   "id": "98ee37a0",
   "metadata": {},
   "outputs": [],
   "source": []
  }
 ],
 "metadata": {
  "kernelspec": {
   "display_name": "Python 3 (ipykernel)",
   "language": "python",
   "name": "python3"
  },
  "language_info": {
   "codemirror_mode": {
    "name": "ipython",
    "version": 3
   },
   "file_extension": ".py",
   "mimetype": "text/x-python",
   "name": "python",
   "nbconvert_exporter": "python",
   "pygments_lexer": "ipython3",
   "version": "3.11.2"
  }
 },
 "nbformat": 4,
 "nbformat_minor": 5
}
