{
 "cells": [
  {
   "cell_type": "code",
   "execution_count": 28,
   "id": "3d15f412-c42a-43cd-999d-81bba815d7aa",
   "metadata": {
    "tags": []
   },
   "outputs": [
    {
     "name": "stdout",
     "output_type": "stream",
     "text": [
      "The autoreload extension is already loaded. To reload it, use:\n",
      "  %reload_ext autoreload\n"
     ]
    }
   ],
   "source": [
    "%load_ext autoreload\n",
    "%autoreload 2\n",
    "\n",
    "import torch\n",
    "from torchinfo import summary\n",
    "from src.architectures.feature_extractors.vgg import VGG\n",
    "\n",
    "count_params = lambda model: sum(p.numel() for p in model.parameters() if p.requires_grad)\n",
    "\n",
    "img = torch.rand(1, 3, 224, 224)\n",
    "\n",
    "# summary(net, input_data=img)"
   ]
  },
  {
   "cell_type": "code",
   "execution_count": 26,
   "id": "001e415f",
   "metadata": {},
   "outputs": [
    {
     "data": {
      "text/plain": [
       "1248424"
      ]
     },
     "execution_count": 26,
     "metadata": {},
     "output_type": "execute_result"
    }
   ],
   "source": [
    "count_params(squeezenet1_0())"
   ]
  },
  {
   "cell_type": "code",
   "execution_count": 74,
   "id": "54a89a7a",
   "metadata": {},
   "outputs": [],
   "source": [
    "vgg_local = VGG(3, \"vgg19\", use_batch_norm=False, use_global_pool=True, load_from_torch=False, pretrained=False, freeze_extractor=False)\n",
    "vgg_torch = VGG(3, \"vgg19\", use_batch_norm=False, use_global_pool=True, load_from_torch=True, pretrained=False, freeze_extractor=False)\n"
   ]
  },
  {
   "cell_type": "code",
   "execution_count": 75,
   "id": "c80c15a6",
   "metadata": {},
   "outputs": [
    {
     "data": {
      "text/plain": [
       "(torch.Size([1, 512]), torch.Size([1, 512]))"
      ]
     },
     "execution_count": 75,
     "metadata": {},
     "output_type": "execute_result"
    }
   ],
   "source": [
    "vgg_local(img).shape, vgg_torch(img).shape"
   ]
  },
  {
   "cell_type": "code",
   "execution_count": 76,
   "id": "e62a80bd",
   "metadata": {},
   "outputs": [
    {
     "data": {
      "text/plain": [
       "(20024384, 20024384)"
      ]
     },
     "execution_count": 76,
     "metadata": {},
     "output_type": "execute_result"
    }
   ],
   "source": [
    "count_params(vgg_local), count_params(vgg_torch)"
   ]
  },
  {
   "cell_type": "code",
   "execution_count": null,
   "id": "0c83a44e",
   "metadata": {},
   "outputs": [],
   "source": []
  }
 ],
 "metadata": {
  "kernelspec": {
   "display_name": "image-classifiation-kernel",
   "language": "python",
   "name": "image-classifiation-kernel"
  },
  "language_info": {
   "codemirror_mode": {
    "name": "ipython",
    "version": 3
   },
   "file_extension": ".py",
   "mimetype": "text/x-python",
   "name": "python",
   "nbconvert_exporter": "python",
   "pygments_lexer": "ipython3",
   "version": "3.11.2"
  }
 },
 "nbformat": 4,
 "nbformat_minor": 5
}
