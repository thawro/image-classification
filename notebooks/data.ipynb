{
 "cells": [
  {
   "cell_type": "code",
   "execution_count": 12,
   "id": "3d15f412-c42a-43cd-999d-81bba815d7aa",
   "metadata": {
    "tags": []
   },
   "outputs": [
    {
     "name": "stdout",
     "output_type": "stream",
     "text": [
      "The autoreload extension is already loaded. To reload it, use:\n",
      "  %reload_ext autoreload\n"
     ]
    }
   ],
   "source": [
    "%load_ext autoreload\n",
    "%autoreload 2\n",
    "\n",
    "import torch\n",
    "from src.architectures.feature_extractors.squeeze_net import SqueezeNet\n",
    "from src.architectures.feature_extractors.inception_v4 import InceptionResNetV2\n",
    "from torchinfo import summary\n",
    "\n",
    "img = torch.rand(1, 3, 299, 299)"
   ]
  },
  {
   "cell_type": "code",
   "execution_count": 16,
   "id": "a6aa31e1",
   "metadata": {},
   "outputs": [
    {
     "name": "stderr",
     "output_type": "stream",
     "text": [
      "[autoreload of src.architectures.feature_extractors.inception_v4 failed: Traceback (most recent call last):\n",
      "  File \"/home/shate/.cache/pypoetry/virtualenvs/image-classification-5tGgTKFW-py3.11/lib/python3.11/site-packages/IPython/extensions/autoreload.py\", line 273, in check\n",
      "    superreload(m, reload, self.old_objects)\n",
      "  File \"/home/shate/.cache/pypoetry/virtualenvs/image-classification-5tGgTKFW-py3.11/lib/python3.11/site-packages/IPython/extensions/autoreload.py\", line 496, in superreload\n",
      "    update_generic(old_obj, new_obj)\n",
      "  File \"/home/shate/.cache/pypoetry/virtualenvs/image-classification-5tGgTKFW-py3.11/lib/python3.11/site-packages/IPython/extensions/autoreload.py\", line 393, in update_generic\n",
      "    update(a, b)\n",
      "  File \"/home/shate/.cache/pypoetry/virtualenvs/image-classification-5tGgTKFW-py3.11/lib/python3.11/site-packages/IPython/extensions/autoreload.py\", line 345, in update_class\n",
      "    if update_generic(old_obj, new_obj):\n",
      "       ^^^^^^^^^^^^^^^^^^^^^^^^^^^^^^^^\n",
      "  File \"/home/shate/.cache/pypoetry/virtualenvs/image-classification-5tGgTKFW-py3.11/lib/python3.11/site-packages/IPython/extensions/autoreload.py\", line 393, in update_generic\n",
      "    update(a, b)\n",
      "  File \"/home/shate/.cache/pypoetry/virtualenvs/image-classification-5tGgTKFW-py3.11/lib/python3.11/site-packages/IPython/extensions/autoreload.py\", line 305, in update_function\n",
      "    setattr(old, name, getattr(new, name))\n",
      "ValueError: __init__() requires a code object with 0 free vars, not 1\n",
      "]\n"
     ]
    },
    {
     "data": {
      "text/plain": [
       "([320, 320, 320, 320, 320],\n",
       " [1088, 1088, 1088, 1088, 1088, 1088, 1088, 1088, 1088, 1088],\n",
       " [2080, 2080, 2080, 2080, 2080])"
      ]
     },
     "execution_count": 16,
     "metadata": {},
     "output_type": "execute_result"
    }
   ],
   "source": [
    "net = InceptionResNetV2(in_channels=3)\n",
    "net.A_in_channels, net.B_in_channels, net.C_in_channels"
   ]
  },
  {
   "cell_type": "code",
   "execution_count": 17,
   "id": "67f2569f",
   "metadata": {},
   "outputs": [
    {
     "name": "stdout",
     "output_type": "stream",
     "text": [
      "stem torch.Size([1, 320, 35, 35])\n",
      "block_A_0 torch.Size([1, 320, 35, 35])\n",
      "block_A_1 torch.Size([1, 320, 35, 35])\n",
      "block_A_2 torch.Size([1, 320, 35, 35])\n",
      "block_A_3 torch.Size([1, 320, 35, 35])\n",
      "block_A_4 torch.Size([1, 320, 35, 35])\n",
      "reduction_A torch.Size([1, 1088, 17, 17])\n",
      "block_B_0 torch.Size([1, 1088, 17, 17])\n",
      "block_B_1 torch.Size([1, 1088, 17, 17])\n",
      "block_B_2 torch.Size([1, 1088, 17, 17])\n",
      "block_B_3 torch.Size([1, 1088, 17, 17])\n",
      "block_B_4 torch.Size([1, 1088, 17, 17])\n",
      "block_B_5 torch.Size([1, 1088, 17, 17])\n",
      "block_B_6 torch.Size([1, 1088, 17, 17])\n",
      "block_B_7 torch.Size([1, 1088, 17, 17])\n",
      "block_B_8 torch.Size([1, 1088, 17, 17])\n",
      "block_B_9 torch.Size([1, 1088, 17, 17])\n",
      "reduction_B torch.Size([1, 2080, 8, 8])\n",
      "block_C_0 torch.Size([1, 2080, 8, 8])\n",
      "block_C_1 torch.Size([1, 2080, 8, 8])\n",
      "block_C_2 torch.Size([1, 2080, 8, 8])\n",
      "block_C_3 torch.Size([1, 2080, 8, 8])\n",
      "block_C_4 torch.Size([1, 2080, 8, 8])\n"
     ]
    }
   ],
   "source": [
    "out = net(img)"
   ]
  },
  {
   "cell_type": "code",
   "execution_count": 18,
   "id": "bbdea29a",
   "metadata": {},
   "outputs": [
    {
     "name": "stdout",
     "output_type": "stream",
     "text": [
      "stem torch.Size([1, 320, 35, 35])\n",
      "block_A_0 torch.Size([1, 320, 35, 35])\n",
      "block_A_1 torch.Size([1, 320, 35, 35])\n",
      "block_A_2 torch.Size([1, 320, 35, 35])\n",
      "block_A_3 torch.Size([1, 320, 35, 35])\n",
      "block_A_4 torch.Size([1, 320, 35, 35])\n",
      "reduction_A torch.Size([1, 1088, 17, 17])\n",
      "block_B_0 torch.Size([1, 1088, 17, 17])\n",
      "block_B_1 torch.Size([1, 1088, 17, 17])\n",
      "block_B_2 torch.Size([1, 1088, 17, 17])\n",
      "block_B_3 torch.Size([1, 1088, 17, 17])\n",
      "block_B_4 torch.Size([1, 1088, 17, 17])\n",
      "block_B_5 torch.Size([1, 1088, 17, 17])\n",
      "block_B_6 torch.Size([1, 1088, 17, 17])\n",
      "block_B_7 torch.Size([1, 1088, 17, 17])\n",
      "block_B_8 torch.Size([1, 1088, 17, 17])\n",
      "block_B_9 torch.Size([1, 1088, 17, 17])\n",
      "reduction_B torch.Size([1, 2080, 8, 8])\n",
      "block_C_0 torch.Size([1, 2080, 8, 8])\n",
      "block_C_1 torch.Size([1, 2080, 8, 8])\n",
      "block_C_2 torch.Size([1, 2080, 8, 8])\n",
      "block_C_3 torch.Size([1, 2080, 8, 8])\n",
      "block_C_4 torch.Size([1, 2080, 8, 8])\n"
     ]
    },
    {
     "name": "stderr",
     "output_type": "stream",
     "text": [
      "/home/shate/.cache/pypoetry/virtualenvs/image-classification-5tGgTKFW-py3.11/lib/python3.11/site-packages/torchinfo/torchinfo.py:477: UserWarning: TypedStorage is deprecated. It will be removed in the future and UntypedStorage will be the only storage class. This should only matter to you if you are using storages directly.  To access UntypedStorage directly, use tensor.untyped_storage() instead of tensor.storage()\n",
      "  action_fn=lambda data: sys.getsizeof(data.storage()),\n",
      "/home/shate/.cache/pypoetry/virtualenvs/image-classification-5tGgTKFW-py3.11/lib/python3.11/site-packages/torch/storage.py:665: UserWarning: TypedStorage is deprecated. It will be removed in the future and UntypedStorage will be the only storage class. This should only matter to you if you are using storages directly.  To access UntypedStorage directly, use tensor.untyped_storage() instead of tensor.storage()\n",
      "  return super().__sizeof__() + self.nbytes()\n"
     ]
    },
    {
     "data": {
      "text/plain": [
       "===============================================================================================\n",
       "Layer (type:depth-idx)                        Output Shape              Param #\n",
       "===============================================================================================\n",
       "InceptionResNetV2                             [1, 2080, 8, 8]           --\n",
       "├─Sequential: 1-1                             --                        --\n",
       "│    └─StemConv2: 2-1                         [1, 320, 35, 35]          --\n",
       "│    │    └─CNNBlock: 3-1                     [1, 32, 149, 149]         960\n",
       "│    │    └─CNNBlock: 3-2                     [1, 32, 147, 147]         9,312\n",
       "│    │    └─CNNBlock: 3-3                     [1, 64, 147, 147]         18,624\n",
       "│    │    └─MaxPool2d: 3-4                    [1, 64, 73, 73]           --\n",
       "│    │    └─CNNBlock: 3-5                     [1, 80, 73, 73]           5,360\n",
       "│    │    └─CNNBlock: 3-6                     [1, 192, 71, 71]          138,816\n",
       "│    │    └─MaxPool2d: 3-7                    [1, 192, 35, 35]          --\n",
       "│    │    └─CNNBlock: 3-8                     [1, 96, 35, 35]           18,720\n",
       "│    │    └─Sequential: 3-9                   [1, 64, 35, 35]           86,352\n",
       "│    │    └─Sequential: 3-10                  [1, 96, 35, 35]           151,296\n",
       "│    │    └─Sequential: 3-11                  [1, 64, 35, 35]           12,480\n",
       "│    └─InceptionResNetA: 2-2                  [1, 320, 35, 35]          --\n",
       "│    │    └─CNNBlock: 3-12                    [1, 32, 35, 35]           10,336\n",
       "│    │    └─Sequential: 3-13                  [1, 32, 35, 35]           19,648\n",
       "│    │    └─Sequential: 3-14                  [1, 64, 35, 35]           52,144\n",
       "│    │    └─Conv2d: 3-15                      [1, 320, 35, 35]          41,280\n",
       "│    │    └─ReLU: 3-16                        [1, 320, 35, 35]          --\n",
       "│    └─InceptionResNetA: 2-3                  [1, 320, 35, 35]          --\n",
       "│    │    └─CNNBlock: 3-17                    [1, 32, 35, 35]           10,336\n",
       "│    │    └─Sequential: 3-18                  [1, 32, 35, 35]           19,648\n",
       "│    │    └─Sequential: 3-19                  [1, 64, 35, 35]           52,144\n",
       "│    │    └─Conv2d: 3-20                      [1, 320, 35, 35]          41,280\n",
       "│    │    └─ReLU: 3-21                        [1, 320, 35, 35]          --\n",
       "│    └─InceptionResNetA: 2-4                  [1, 320, 35, 35]          --\n",
       "│    │    └─CNNBlock: 3-22                    [1, 32, 35, 35]           10,336\n",
       "│    │    └─Sequential: 3-23                  [1, 32, 35, 35]           19,648\n",
       "│    │    └─Sequential: 3-24                  [1, 64, 35, 35]           52,144\n",
       "│    │    └─Conv2d: 3-25                      [1, 320, 35, 35]          41,280\n",
       "│    │    └─ReLU: 3-26                        [1, 320, 35, 35]          --\n",
       "│    └─InceptionResNetA: 2-5                  [1, 320, 35, 35]          --\n",
       "│    │    └─CNNBlock: 3-27                    [1, 32, 35, 35]           10,336\n",
       "│    │    └─Sequential: 3-28                  [1, 32, 35, 35]           19,648\n",
       "│    │    └─Sequential: 3-29                  [1, 64, 35, 35]           52,144\n",
       "│    │    └─Conv2d: 3-30                      [1, 320, 35, 35]          41,280\n",
       "│    │    └─ReLU: 3-31                        [1, 320, 35, 35]          --\n",
       "│    └─InceptionResNetA: 2-6                  [1, 320, 35, 35]          --\n",
       "│    │    └─CNNBlock: 3-32                    [1, 32, 35, 35]           10,336\n",
       "│    │    └─Sequential: 3-33                  [1, 32, 35, 35]           19,648\n",
       "│    │    └─Sequential: 3-34                  [1, 64, 35, 35]           52,144\n",
       "│    │    └─Conv2d: 3-35                      [1, 320, 35, 35]          41,280\n",
       "│    │    └─ReLU: 3-36                        [1, 320, 35, 35]          --\n",
       "│    └─ReductionA: 2-7                        [1, 1088, 17, 17]         --\n",
       "│    │    └─MaxPool2d: 3-37                   [1, 320, 17, 17]          --\n",
       "│    │    └─CNNBlock: 3-38                    [1, 384, 17, 17]          1,107,072\n",
       "│    │    └─Sequential: 3-39                  [1, 384, 17, 17]          1,559,168\n",
       "│    └─InceptionResNetB: 2-8                  [1, 1088, 17, 17]         --\n",
       "│    │    └─CNNBlock: 3-40                    [1, 192, 17, 17]          209,472\n",
       "│    │    └─Sequential: 3-41                  [1, 192, 17, 17]          499,104\n",
       "│    │    └─Conv2d: 3-42                      [1, 1088, 17, 17]         418,880\n",
       "│    │    └─ReLU: 3-43                        [1, 1088, 17, 17]         --\n",
       "│    └─InceptionResNetB: 2-9                  [1, 1088, 17, 17]         --\n",
       "│    │    └─CNNBlock: 3-44                    [1, 192, 17, 17]          209,472\n",
       "│    │    └─Sequential: 3-45                  [1, 192, 17, 17]          499,104\n",
       "│    │    └─Conv2d: 3-46                      [1, 1088, 17, 17]         418,880\n",
       "│    │    └─ReLU: 3-47                        [1, 1088, 17, 17]         --\n",
       "│    └─InceptionResNetB: 2-10                 [1, 1088, 17, 17]         --\n",
       "│    │    └─CNNBlock: 3-48                    [1, 192, 17, 17]          209,472\n",
       "│    │    └─Sequential: 3-49                  [1, 192, 17, 17]          499,104\n",
       "│    │    └─Conv2d: 3-50                      [1, 1088, 17, 17]         418,880\n",
       "│    │    └─ReLU: 3-51                        [1, 1088, 17, 17]         --\n",
       "│    └─InceptionResNetB: 2-11                 [1, 1088, 17, 17]         --\n",
       "│    │    └─CNNBlock: 3-52                    [1, 192, 17, 17]          209,472\n",
       "│    │    └─Sequential: 3-53                  [1, 192, 17, 17]          499,104\n",
       "│    │    └─Conv2d: 3-54                      [1, 1088, 17, 17]         418,880\n",
       "│    │    └─ReLU: 3-55                        [1, 1088, 17, 17]         --\n",
       "│    └─InceptionResNetB: 2-12                 [1, 1088, 17, 17]         --\n",
       "│    │    └─CNNBlock: 3-56                    [1, 192, 17, 17]          209,472\n",
       "│    │    └─Sequential: 3-57                  [1, 192, 17, 17]          499,104\n",
       "│    │    └─Conv2d: 3-58                      [1, 1088, 17, 17]         418,880\n",
       "│    │    └─ReLU: 3-59                        [1, 1088, 17, 17]         --\n",
       "│    └─InceptionResNetB: 2-13                 [1, 1088, 17, 17]         --\n",
       "│    │    └─CNNBlock: 3-60                    [1, 192, 17, 17]          209,472\n",
       "│    │    └─Sequential: 3-61                  [1, 192, 17, 17]          499,104\n",
       "│    │    └─Conv2d: 3-62                      [1, 1088, 17, 17]         418,880\n",
       "│    │    └─ReLU: 3-63                        [1, 1088, 17, 17]         --\n",
       "│    └─InceptionResNetB: 2-14                 [1, 1088, 17, 17]         --\n",
       "│    │    └─CNNBlock: 3-64                    [1, 192, 17, 17]          209,472\n",
       "│    │    └─Sequential: 3-65                  [1, 192, 17, 17]          499,104\n",
       "│    │    └─Conv2d: 3-66                      [1, 1088, 17, 17]         418,880\n",
       "│    │    └─ReLU: 3-67                        [1, 1088, 17, 17]         --\n",
       "│    └─InceptionResNetB: 2-15                 [1, 1088, 17, 17]         --\n",
       "│    │    └─CNNBlock: 3-68                    [1, 192, 17, 17]          209,472\n",
       "│    │    └─Sequential: 3-69                  [1, 192, 17, 17]          499,104\n",
       "│    │    └─Conv2d: 3-70                      [1, 1088, 17, 17]         418,880\n",
       "│    │    └─ReLU: 3-71                        [1, 1088, 17, 17]         --\n",
       "│    └─InceptionResNetB: 2-16                 [1, 1088, 17, 17]         --\n",
       "│    │    └─CNNBlock: 3-72                    [1, 192, 17, 17]          209,472\n",
       "│    │    └─Sequential: 3-73                  [1, 192, 17, 17]          499,104\n",
       "│    │    └─Conv2d: 3-74                      [1, 1088, 17, 17]         418,880\n",
       "│    │    └─ReLU: 3-75                        [1, 1088, 17, 17]         --\n",
       "│    └─InceptionResNetB: 2-17                 [1, 1088, 17, 17]         --\n",
       "│    │    └─CNNBlock: 3-76                    [1, 192, 17, 17]          209,472\n",
       "│    │    └─Sequential: 3-77                  [1, 192, 17, 17]          499,104\n",
       "│    │    └─Conv2d: 3-78                      [1, 1088, 17, 17]         418,880\n",
       "│    │    └─ReLU: 3-79                        [1, 1088, 17, 17]         --\n",
       "│    └─ReductionB: 2-18                       [1, 2080, 8, 8]           --\n",
       "│    │    └─MaxPool2d: 3-80                   [1, 1088, 8, 8]           --\n",
       "│    │    └─Sequential: 3-81                  [1, 384, 8, 8]            1,165,184\n",
       "│    │    └─Sequential: 3-82                  [1, 288, 8, 8]            943,712\n",
       "│    │    └─Sequential: 3-83                  [1, 320, 8, 8]            1,774,112\n",
       "│    └─InceptionResNetC: 2-19                 [1, 2080, 8, 8]           --\n",
       "│    │    └─CNNBlock: 3-84                    [1, 192, 8, 8]            399,936\n",
       "│    │    └─Sequential: 3-85                  [1, 256, 8, 8]            702,432\n",
       "│    │    └─Conv2d: 3-86                      [1, 2080, 8, 8]           933,920\n",
       "│    └─InceptionResNetC: 2-20                 [1, 2080, 8, 8]           --\n",
       "│    │    └─CNNBlock: 3-87                    [1, 192, 8, 8]            399,936\n",
       "│    │    └─Sequential: 3-88                  [1, 256, 8, 8]            702,432\n",
       "│    │    └─Conv2d: 3-89                      [1, 2080, 8, 8]           933,920\n",
       "│    └─InceptionResNetC: 2-21                 [1, 2080, 8, 8]           --\n",
       "│    │    └─CNNBlock: 3-90                    [1, 192, 8, 8]            399,936\n",
       "│    │    └─Sequential: 3-91                  [1, 256, 8, 8]            702,432\n",
       "│    │    └─Conv2d: 3-92                      [1, 2080, 8, 8]           933,920\n",
       "│    └─InceptionResNetC: 2-22                 [1, 2080, 8, 8]           --\n",
       "│    │    └─CNNBlock: 3-93                    [1, 192, 8, 8]            399,936\n",
       "│    │    └─Sequential: 3-94                  [1, 256, 8, 8]            702,432\n",
       "│    │    └─Conv2d: 3-95                      [1, 2080, 8, 8]           933,920\n",
       "│    └─InceptionResNetC: 2-23                 [1, 2080, 8, 8]           --\n",
       "│    │    └─CNNBlock: 3-96                    [1, 192, 8, 8]            399,936\n",
       "│    │    └─Sequential: 3-97                  [1, 256, 8, 8]            702,432\n",
       "│    │    └─Conv2d: 3-98                      [1, 2080, 8, 8]           933,920\n",
       "===============================================================================================\n",
       "Total params: 29,064,208\n",
       "Trainable params: 29,064,208\n",
       "Non-trainable params: 0\n",
       "Total mult-adds (Units.GIGABYTES): 8.32\n",
       "===============================================================================================\n",
       "Input size (MB): 1.07\n",
       "Forward/backward pass size (MB): 201.88\n",
       "Params size (MB): 116.26\n",
       "Estimated Total Size (MB): 319.21\n",
       "==============================================================================================="
      ]
     },
     "execution_count": 18,
     "metadata": {},
     "output_type": "execute_result"
    }
   ],
   "source": [
    "summary(net, input_data=img)"
   ]
  },
  {
   "cell_type": "code",
   "execution_count": null,
   "id": "98ee37a0",
   "metadata": {},
   "outputs": [],
   "source": []
  }
 ],
 "metadata": {
  "kernelspec": {
   "display_name": "Python 3 (ipykernel)",
   "language": "python",
   "name": "python3"
  },
  "language_info": {
   "codemirror_mode": {
    "name": "ipython",
    "version": 3
   },
   "file_extension": ".py",
   "mimetype": "text/x-python",
   "name": "python",
   "nbconvert_exporter": "python",
   "pygments_lexer": "ipython3",
   "version": "3.11.2"
  }
 },
 "nbformat": 4,
 "nbformat_minor": 5
}
