{
 "cells": [
  {
   "cell_type": "code",
   "execution_count": 2,
   "id": "3d15f412-c42a-43cd-999d-81bba815d7aa",
   "metadata": {
    "tags": []
   },
   "outputs": [
    {
     "name": "stderr",
     "output_type": "stream",
     "text": [
      "Global seed set to 42\n"
     ]
    }
   ],
   "source": [
    "%load_ext autoreload\n",
    "%autoreload 2\n",
    "\n",
    "import torch\n",
    "from src.architectures.feature_extractors.mobilenet import MobileNet\n",
    "from src.module.multiclass import MulticlassImageClassifier\n",
    "from src.architectures.head import MulticlassLinearClassificationHead\n",
    "from pytorch_lightning import seed_everything\n",
    "\n",
    "from torchinfo import summary\n",
    "\n",
    "count_params = lambda model: sum(p.numel() for p in model.parameters() if p.requires_grad)\n",
    "\n",
    "seed_everything(42)\n",
    "img = torch.rand(1, 3, 224, 224)\n",
    "\n",
    "# summary(net, input_data=img)"
   ]
  },
  {
   "cell_type": "code",
   "execution_count": 33,
   "id": "e01d8a6e",
   "metadata": {},
   "outputs": [],
   "source": [
    "net = MobileNet(3, 1.0, \"v3_small\", True, False, True).cuda()"
   ]
  },
  {
   "cell_type": "code",
   "execution_count": 34,
   "id": "f99d820a",
   "metadata": {},
   "outputs": [
    {
     "data": {
      "text/plain": [
       "torch.Size([1, 1024])"
      ]
     },
     "execution_count": 34,
     "metadata": {},
     "output_type": "execute_result"
    }
   ],
   "source": [
    "net.net(img.cuda()).shape"
   ]
  },
  {
   "cell_type": "code",
   "execution_count": 35,
   "id": "1ecf1309",
   "metadata": {},
   "outputs": [
    {
     "name": "stderr",
     "output_type": "stream",
     "text": [
      "/home/shate/.cache/pypoetry/virtualenvs/image-classification-5tGgTKFW-py3.11/lib/python3.11/site-packages/torchinfo/torchinfo.py:477: UserWarning: TypedStorage is deprecated. It will be removed in the future and UntypedStorage will be the only storage class. This should only matter to you if you are using storages directly.  To access UntypedStorage directly, use tensor.untyped_storage() instead of tensor.storage()\n",
      "  action_fn=lambda data: sys.getsizeof(data.storage()),\n",
      "/home/shate/.cache/pypoetry/virtualenvs/image-classification-5tGgTKFW-py3.11/lib/python3.11/site-packages/torch/storage.py:665: UserWarning: TypedStorage is deprecated. It will be removed in the future and UntypedStorage will be the only storage class. This should only matter to you if you are using storages directly.  To access UntypedStorage directly, use tensor.untyped_storage() instead of tensor.storage()\n",
      "  return super().__sizeof__() + self.nbytes()\n"
     ]
    },
    {
     "data": {
      "text/plain": [
       "=========================================================================================================\n",
       "Layer (type:depth-idx)                                  Output Shape              Param #\n",
       "=========================================================================================================\n",
       "ExternalFeatureExtractor                                [1, 1024]                 --\n",
       "├─Sequential: 1-1                                       --                        --\n",
       "│    └─Sequential: 2-1                                  [1, 576, 7, 7]            --\n",
       "│    │    └─Conv2dNormActivation: 3-1                   [1, 16, 112, 112]         (464)\n",
       "│    │    └─InvertedResidual: 3-2                       [1, 16, 56, 56]           (744)\n",
       "│    │    └─InvertedResidual: 3-3                       [1, 24, 28, 28]           (3,864)\n",
       "│    │    └─InvertedResidual: 3-4                       [1, 24, 28, 28]           (5,416)\n",
       "│    │    └─InvertedResidual: 3-5                       [1, 40, 14, 14]           (13,736)\n",
       "│    │    └─InvertedResidual: 3-6                       [1, 40, 14, 14]           (57,264)\n",
       "│    │    └─InvertedResidual: 3-7                       [1, 40, 14, 14]           (57,264)\n",
       "│    │    └─InvertedResidual: 3-8                       [1, 48, 14, 14]           (21,968)\n",
       "│    │    └─InvertedResidual: 3-9                       [1, 48, 14, 14]           (29,800)\n",
       "│    │    └─InvertedResidual: 3-10                      [1, 96, 7, 7]             (91,848)\n",
       "│    │    └─InvertedResidual: 3-11                      [1, 96, 7, 7]             (294,096)\n",
       "│    │    └─InvertedResidual: 3-12                      [1, 96, 7, 7]             (294,096)\n",
       "│    │    └─Conv2dNormActivation: 3-13                  [1, 576, 7, 7]            (56,448)\n",
       "│    └─AdaptiveAvgPool2d: 2-2                           [1, 576, 1, 1]            --\n",
       "│    └─Flatten: 2-3                                     [1, 576]                  --\n",
       "│    └─Linear: 2-4                                      [1, 1024]                 (590,848)\n",
       "│    └─Hardswish: 2-5                                   [1, 1024]                 --\n",
       "=========================================================================================================\n",
       "Total params: 1,517,856\n",
       "Trainable params: 0\n",
       "Non-trainable params: 1,517,856\n",
       "Total mult-adds (Units.MEGABYTES): 55.50\n",
       "=========================================================================================================\n",
       "Input size (MB): 0.60\n",
       "Forward/backward pass size (MB): 22.64\n",
       "Params size (MB): 6.07\n",
       "Estimated Total Size (MB): 29.31\n",
       "========================================================================================================="
      ]
     },
     "execution_count": 35,
     "metadata": {},
     "output_type": "execute_result"
    }
   ],
   "source": [
    "summary(net, input_data=img, depth=3)"
   ]
  },
  {
   "cell_type": "code",
   "execution_count": null,
   "id": "db982d6c",
   "metadata": {},
   "outputs": [],
   "source": []
  }
 ],
 "metadata": {
  "kernelspec": {
   "display_name": "Python 3 (ipykernel)",
   "language": "python",
   "name": "python3"
  },
  "language_info": {
   "codemirror_mode": {
    "name": "ipython",
    "version": 3
   },
   "file_extension": ".py",
   "mimetype": "text/x-python",
   "name": "python",
   "nbconvert_exporter": "python",
   "pygments_lexer": "ipython3",
   "version": "3.11.2"
  }
 },
 "nbformat": 4,
 "nbformat_minor": 5
}
