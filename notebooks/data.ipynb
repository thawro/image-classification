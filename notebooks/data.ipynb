{
 "cells": [
  {
   "cell_type": "code",
   "execution_count": 2,
   "id": "3d15f412-c42a-43cd-999d-81bba815d7aa",
   "metadata": {
    "tags": []
   },
   "outputs": [
    {
     "name": "stderr",
     "output_type": "stream",
     "text": [
      "Global seed set to 42\n"
     ]
    }
   ],
   "source": [
    "%load_ext autoreload\n",
    "%autoreload 2\n",
    "\n",
    "import torch\n",
    "from src.architectures.feature_extractors.mobilenet import MobileNet\n",
    "from src.module.multiclass import MulticlassImageClassifier\n",
    "from src.architectures.head import MulticlassLinearClassificationHead\n",
    "from pytorch_lightning import seed_everything\n",
    "\n",
    "from torchinfo import summary\n",
    "\n",
    "count_params = lambda model: sum(p.numel() for p in model.parameters() if p.requires_grad)\n",
    "\n",
    "seed_everything(42)\n",
    "img = torch.rand(1, 3, 224, 224)\n",
    "\n",
    "# summary(net, input_data=img)"
   ]
  },
  {
   "cell_type": "code",
   "execution_count": 29,
   "id": "e01d8a6e",
   "metadata": {},
   "outputs": [],
   "source": [
    "net = MobileNet(3, 0.3, \"v3_small\", True, False).cuda()"
   ]
  },
  {
   "cell_type": "code",
   "execution_count": 30,
   "id": "f99d820a",
   "metadata": {},
   "outputs": [
    {
     "data": {
      "text/plain": [
       "torch.Size([1, 304])"
      ]
     },
     "execution_count": 30,
     "metadata": {},
     "output_type": "execute_result"
    }
   ],
   "source": [
    "net.net(img.cuda()).shape"
   ]
  },
  {
   "cell_type": "code",
   "execution_count": 28,
   "id": "1ecf1309",
   "metadata": {},
   "outputs": [
    {
     "data": {
      "text/plain": [
       "=========================================================================================================\n",
       "Layer (type:depth-idx)                                  Output Shape              Param #\n",
       "=========================================================================================================\n",
       "ExternalFeatureExtractor                                [1, 1280]                 --\n",
       "├─Sequential: 1-1                                       --                        --\n",
       "│    └─Sequential: 2-1                                  [1, 1280, 7, 7]           --\n",
       "│    │    └─Conv2dNormActivation: 3-1                   [1, 16, 112, 112]         464\n",
       "│    │    └─InvertedResidual: 3-2                       [1, 8, 112, 112]          320\n",
       "│    │    └─InvertedResidual: 3-3                       [1, 8, 56, 56]            1,408\n",
       "│    │    └─InvertedResidual: 3-4                       [1, 8, 56, 56]            1,408\n",
       "│    │    └─InvertedResidual: 3-5                       [1, 16, 28, 28]           1,808\n",
       "│    │    └─InvertedResidual: 3-6                       [1, 16, 28, 28]           4,352\n",
       "│    │    └─InvertedResidual: 3-7                       [1, 16, 28, 28]           4,352\n",
       "│    │    └─InvertedResidual: 3-8                       [1, 24, 14, 14]           5,136\n",
       "│    │    └─InvertedResidual: 3-9                       [1, 24, 14, 14]           8,832\n",
       "│    │    └─InvertedResidual: 3-10                      [1, 24, 14, 14]           8,832\n",
       "│    │    └─InvertedResidual: 3-11                      [1, 24, 14, 14]           8,832\n",
       "│    │    └─InvertedResidual: 3-12                      [1, 32, 14, 14]           10,000\n",
       "│    │    └─InvertedResidual: 3-13                      [1, 32, 14, 14]           14,848\n",
       "│    │    └─InvertedResidual: 3-14                      [1, 32, 14, 14]           14,848\n",
       "│    │    └─InvertedResidual: 3-15                      [1, 48, 7, 7]             17,952\n",
       "│    │    └─InvertedResidual: 3-16                      [1, 48, 7, 7]             31,488\n",
       "│    │    └─InvertedResidual: 3-17                      [1, 48, 7, 7]             31,488\n",
       "│    │    └─InvertedResidual: 3-18                      [1, 96, 7, 7]             45,408\n",
       "│    │    └─Conv2dNormActivation: 3-19                  [1, 1280, 7, 7]           125,440\n",
       "│    └─AdaptiveAvgPool2d: 2-2                           [1, 1280, 1, 1]           --\n",
       "│    └─Flatten: 2-3                                     [1, 1280]                 --\n",
       "=========================================================================================================\n",
       "Total params: 337,216\n",
       "Trainable params: 337,216\n",
       "Non-trainable params: 0\n",
       "Total mult-adds (Units.MEGABYTES): 55.16\n",
       "=========================================================================================================\n",
       "Input size (MB): 0.60\n",
       "Forward/backward pass size (MB): 45.55\n",
       "Params size (MB): 1.35\n",
       "Estimated Total Size (MB): 47.50\n",
       "========================================================================================================="
      ]
     },
     "execution_count": 28,
     "metadata": {},
     "output_type": "execute_result"
    }
   ],
   "source": [
    "summary(net, input_data=img, depth=3)"
   ]
  },
  {
   "cell_type": "code",
   "execution_count": null,
   "id": "db982d6c",
   "metadata": {},
   "outputs": [],
   "source": []
  }
 ],
 "metadata": {
  "kernelspec": {
   "display_name": "Python 3 (ipykernel)",
   "language": "python",
   "name": "python3"
  },
  "language_info": {
   "codemirror_mode": {
    "name": "ipython",
    "version": 3
   },
   "file_extension": ".py",
   "mimetype": "text/x-python",
   "name": "python",
   "nbconvert_exporter": "python",
   "pygments_lexer": "ipython3",
   "version": "3.11.2"
  }
 },
 "nbformat": 4,
 "nbformat_minor": 5
}
