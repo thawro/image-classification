{
 "cells": [
  {
   "cell_type": "code",
   "execution_count": 1,
   "id": "3d15f412-c42a-43cd-999d-81bba815d7aa",
   "metadata": {
    "tags": []
   },
   "outputs": [],
   "source": [
    "%load_ext autoreload\n",
    "%autoreload 2\n",
    "\n",
    "from src.data.datamodule import SVHNDataModule"
   ]
  },
  {
   "cell_type": "code",
   "execution_count": 65,
   "id": "0999cee7-ac48-49fa-86eb-1aa87e693b70",
   "metadata": {},
   "outputs": [],
   "source": [
    "dm = SVHNDataModule()\n",
    "dm.download_data()\n",
    "dm.setup()"
   ]
  }
 ],
 "metadata": {
  "kernelspec": {
   "display_name": "Python 3 (ipykernel)",
   "language": "python",
   "name": "python3"
  },
  "language_info": {
   "codemirror_mode": {
    "name": "ipython",
    "version": 3
   },
   "file_extension": ".py",
   "mimetype": "text/x-python",
   "name": "python",
   "nbconvert_exporter": "python",
   "pygments_lexer": "ipython3",
   "version": "3.11.2"
  }
 },
 "nbformat": 4,
 "nbformat_minor": 5
}
