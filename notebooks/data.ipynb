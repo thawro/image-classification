{
 "cells": [
  {
   "cell_type": "code",
   "execution_count": 157,
   "id": "3d15f412-c42a-43cd-999d-81bba815d7aa",
   "metadata": {
    "tags": []
   },
   "outputs": [
    {
     "name": "stdout",
     "output_type": "stream",
     "text": [
      "The autoreload extension is already loaded. To reload it, use:\n",
      "  %reload_ext autoreload\n"
     ]
    }
   ],
   "source": [
    "%load_ext autoreload\n",
    "%autoreload 2\n",
    "\n",
    "import torch"
   ]
  },
  {
   "cell_type": "code",
   "execution_count": 158,
   "id": "88cae65e",
   "metadata": {},
   "outputs": [],
   "source": [
    "num_samples = 50000\n",
    "num_classes = 10\n",
    "\n",
    "probs = torch.rand(num_samples, num_classes)\n",
    "targets = torch.rand(num_samples, num_classes).argmax(dim=1)\n",
    "labels = [f\"{i}_title_{i}\" for i in range(num_classes)]"
   ]
  }
 ],
 "metadata": {
  "kernelspec": {
   "display_name": "Python 3 (ipykernel)",
   "language": "python",
   "name": "python3"
  },
  "language_info": {
   "codemirror_mode": {
    "name": "ipython",
    "version": 3
   },
   "file_extension": ".py",
   "mimetype": "text/x-python",
   "name": "python",
   "nbconvert_exporter": "python",
   "pygments_lexer": "ipython3",
   "version": "3.11.2"
  }
 },
 "nbformat": 4,
 "nbformat_minor": 5
}
