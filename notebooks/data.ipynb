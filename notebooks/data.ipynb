{
 "cells": [
  {
   "cell_type": "code",
   "execution_count": 194,
   "id": "3d15f412-c42a-43cd-999d-81bba815d7aa",
   "metadata": {
    "tags": []
   },
   "outputs": [
    {
     "name": "stdout",
     "output_type": "stream",
     "text": [
      "The autoreload extension is already loaded. To reload it, use:\n",
      "  %reload_ext autoreload\n"
     ]
    }
   ],
   "source": [
    "%load_ext autoreload\n",
    "%autoreload 2\n",
    "\n",
    "import torch\n",
    "from src.architectures.feature_extractors.squeeze_net import SqueezeNet\n",
    "from src.architectures.feature_extractors.cnn import DeepCNN\n"
   ]
  },
  {
   "cell_type": "code",
   "execution_count": 195,
   "id": "1b7929dc",
   "metadata": {},
   "outputs": [],
   "source": [
    "squeeze = SqueezeNet()\n",
    "cnn = DeepCNN(3, [12, 16], 3, 2)"
   ]
  },
  {
   "cell_type": "code",
   "execution_count": 196,
   "id": "b05de9d6",
   "metadata": {},
   "outputs": [
    {
     "data": {
      "text/plain": [
       "(1000, 16)"
      ]
     },
     "execution_count": 196,
     "metadata": {},
     "output_type": "execute_result"
    }
   ],
   "source": [
    "squeeze.out_dim, cnn.out_dim"
   ]
  },
  {
   "cell_type": "code",
   "execution_count": 197,
   "id": "e1ab9b07",
   "metadata": {},
   "outputs": [
    {
     "data": {
      "text/plain": [
       "{'in_channels': 3,\n",
       " 'base_e': 128,\n",
       " 'incr_e': 128,\n",
       " 'pct_3x3': 0.5,\n",
       " 'freq': 2,\n",
       " 'SR': 0.125}"
      ]
     },
     "execution_count": 197,
     "metadata": {},
     "output_type": "execute_result"
    }
   ],
   "source": [
    "squeeze.params"
   ]
  },
  {
   "cell_type": "code",
   "execution_count": 189,
   "id": "5d4e1809",
   "metadata": {},
   "outputs": [
    {
     "data": {
      "text/plain": [
       "{'out_channels': [12, 16],\n",
       " 'kernels': 3,\n",
       " 'pool_kernels': 2,\n",
       " 'pool_type': 'Max',\n",
       " 'batch_norm': True,\n",
       " 'dropout': 0,\n",
       " 'activation': 'ReLU'}"
      ]
     },
     "execution_count": 189,
     "metadata": {},
     "output_type": "execute_result"
    }
   ],
   "source": [
    "cnn.params"
   ]
  },
  {
   "cell_type": "code",
   "execution_count": 158,
   "id": "88cae65e",
   "metadata": {},
   "outputs": [],
   "source": [
    "num_samples = 50000\n",
    "num_classes = 10\n",
    "\n",
    "probs = torch.rand(num_samples, num_classes)\n",
    "targets = torch.rand(num_samples, num_classes).argmax(dim=1)\n",
    "labels = [f\"{i}_title_{i}\" for i in range(num_classes)]"
   ]
  }
 ],
 "metadata": {
  "kernelspec": {
   "display_name": "Python 3 (ipykernel)",
   "language": "python",
   "name": "python3"
  },
  "language_info": {
   "codemirror_mode": {
    "name": "ipython",
    "version": 3
   },
   "file_extension": ".py",
   "mimetype": "text/x-python",
   "name": "python",
   "nbconvert_exporter": "python",
   "pygments_lexer": "ipython3",
   "version": "3.11.2"
  }
 },
 "nbformat": 4,
 "nbformat_minor": 5
}
