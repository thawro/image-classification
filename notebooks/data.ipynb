{
 "cells": [
  {
   "cell_type": "code",
   "execution_count": 3,
   "id": "3d15f412-c42a-43cd-999d-81bba815d7aa",
   "metadata": {
    "tags": []
   },
   "outputs": [
    {
     "name": "stdout",
     "output_type": "stream",
     "text": [
      "The autoreload extension is already loaded. To reload it, use:\n",
      "  %reload_ext autoreload\n"
     ]
    }
   ],
   "source": [
    "%load_ext autoreload\n",
    "%autoreload 2\n",
    "\n",
    "import torch\n",
    "from src.architectures.feature_extractors.mobilenet import MobilenetV2\n",
    "from torchinfo import summary\n",
    "\n",
    "img = torch.rand(1, 3, 224, 224)"
   ]
  },
  {
   "cell_type": "code",
   "execution_count": 33,
   "id": "a6aa31e1",
   "metadata": {},
   "outputs": [],
   "source": [
    "net = MobilenetV2(in_channels=3, width_mul=0.5)"
   ]
  },
  {
   "cell_type": "code",
   "execution_count": 34,
   "id": "67f2569f",
   "metadata": {},
   "outputs": [],
   "source": [
    "out = net(img)"
   ]
  },
  {
   "cell_type": "code",
   "execution_count": 35,
   "id": "bbdea29a",
   "metadata": {},
   "outputs": [
    {
     "name": "stderr",
     "output_type": "stream",
     "text": [
      "/home/shate/.cache/pypoetry/virtualenvs/image-classification-5tGgTKFW-py3.11/lib/python3.11/site-packages/torchinfo/torchinfo.py:477: UserWarning: TypedStorage is deprecated. It will be removed in the future and UntypedStorage will be the only storage class. This should only matter to you if you are using storages directly.  To access UntypedStorage directly, use tensor.untyped_storage() instead of tensor.storage()\n",
      "  action_fn=lambda data: sys.getsizeof(data.storage()),\n",
      "/home/shate/.cache/pypoetry/virtualenvs/image-classification-5tGgTKFW-py3.11/lib/python3.11/site-packages/torch/storage.py:665: UserWarning: TypedStorage is deprecated. It will be removed in the future and UntypedStorage will be the only storage class. This should only matter to you if you are using storages directly.  To access UntypedStorage directly, use tensor.untyped_storage() instead of tensor.storage()\n",
      "  return super().__sizeof__() + self.nbytes()\n"
     ]
    },
    {
     "data": {
      "text/plain": [
       "==========================================================================================\n",
       "Layer (type:depth-idx)                   Output Shape              Param #\n",
       "==========================================================================================\n",
       "MobilenetV2                              [1, 1280, 7, 7]           --\n",
       "├─Sequential: 1-1                        --                        --\n",
       "│    └─CNNBlock: 2-1                     [1, 16, 111, 111]         --\n",
       "│    │    └─Conv2d: 3-1                  [1, 16, 111, 111]         448\n",
       "│    │    └─ReLU6: 3-2                   [1, 16, 111, 111]         --\n",
       "│    │    └─BatchNorm2d: 3-3             [1, 16, 111, 111]         32\n",
       "│    └─Bottleneck: 2-2                   [1, 8, 111, 111]          --\n",
       "│    │    └─Identity: 3-4                [1, 16, 111, 111]         --\n",
       "│    │    └─CNNBlock: 3-5                [1, 16, 111, 111]         192\n",
       "│    │    └─CNNBlock: 3-6                [1, 8, 111, 111]          152\n",
       "│    └─Bottleneck: 2-3                   [1, 16, 56, 56]           --\n",
       "│    │    └─CNNBlock: 3-7                [1, 48, 111, 111]         528\n",
       "│    │    └─CNNBlock: 3-8                [1, 48, 56, 56]           576\n",
       "│    │    └─CNNBlock: 3-9                [1, 16, 56, 56]           816\n",
       "│    └─Bottleneck: 2-4                   [1, 16, 56, 56]           --\n",
       "│    │    └─CNNBlock: 3-10               [1, 96, 56, 56]           1,824\n",
       "│    │    └─CNNBlock: 3-11               [1, 96, 56, 56]           1,152\n",
       "│    │    └─CNNBlock: 3-12               [1, 16, 56, 56]           1,584\n",
       "│    └─Bottleneck: 2-5                   [1, 16, 28, 28]           --\n",
       "│    │    └─CNNBlock: 3-13               [1, 96, 56, 56]           1,824\n",
       "│    │    └─CNNBlock: 3-14               [1, 96, 28, 28]           1,152\n",
       "│    │    └─CNNBlock: 3-15               [1, 16, 28, 28]           1,584\n",
       "│    └─Bottleneck: 2-6                   [1, 16, 28, 28]           --\n",
       "│    │    └─CNNBlock: 3-16               [1, 96, 28, 28]           1,824\n",
       "│    │    └─CNNBlock: 3-17               [1, 96, 28, 28]           1,152\n",
       "│    │    └─CNNBlock: 3-18               [1, 16, 28, 28]           1,584\n",
       "│    └─Bottleneck: 2-7                   [1, 16, 28, 28]           --\n",
       "│    │    └─CNNBlock: 3-19               [1, 96, 28, 28]           1,824\n",
       "│    │    └─CNNBlock: 3-20               [1, 96, 28, 28]           1,152\n",
       "│    │    └─CNNBlock: 3-21               [1, 16, 28, 28]           1,584\n",
       "│    └─Bottleneck: 2-8                   [1, 32, 14, 14]           --\n",
       "│    │    └─CNNBlock: 3-22               [1, 96, 28, 28]           1,824\n",
       "│    │    └─CNNBlock: 3-23               [1, 96, 14, 14]           1,152\n",
       "│    │    └─CNNBlock: 3-24               [1, 32, 14, 14]           3,168\n",
       "│    └─Bottleneck: 2-9                   [1, 32, 14, 14]           --\n",
       "│    │    └─CNNBlock: 3-25               [1, 192, 14, 14]          6,720\n",
       "│    │    └─CNNBlock: 3-26               [1, 192, 14, 14]          2,304\n",
       "│    │    └─CNNBlock: 3-27               [1, 32, 14, 14]           6,240\n",
       "│    └─Bottleneck: 2-10                  [1, 32, 14, 14]           --\n",
       "│    │    └─CNNBlock: 3-28               [1, 192, 14, 14]          6,720\n",
       "│    │    └─CNNBlock: 3-29               [1, 192, 14, 14]          2,304\n",
       "│    │    └─CNNBlock: 3-30               [1, 32, 14, 14]           6,240\n",
       "│    └─Bottleneck: 2-11                  [1, 32, 14, 14]           --\n",
       "│    │    └─CNNBlock: 3-31               [1, 192, 14, 14]          6,720\n",
       "│    │    └─CNNBlock: 3-32               [1, 192, 14, 14]          2,304\n",
       "│    │    └─CNNBlock: 3-33               [1, 32, 14, 14]           6,240\n",
       "│    └─Bottleneck: 2-12                  [1, 48, 14, 14]           --\n",
       "│    │    └─CNNBlock: 3-34               [1, 192, 14, 14]          6,720\n",
       "│    │    └─CNNBlock: 3-35               [1, 192, 14, 14]          2,304\n",
       "│    │    └─CNNBlock: 3-36               [1, 48, 14, 14]           9,360\n",
       "│    └─Bottleneck: 2-13                  [1, 48, 14, 14]           --\n",
       "│    │    └─CNNBlock: 3-37               [1, 288, 14, 14]          14,688\n",
       "│    │    └─CNNBlock: 3-38               [1, 288, 14, 14]          3,456\n",
       "│    │    └─CNNBlock: 3-39               [1, 48, 14, 14]           13,968\n",
       "│    └─Bottleneck: 2-14                  [1, 48, 14, 14]           --\n",
       "│    │    └─CNNBlock: 3-40               [1, 288, 14, 14]          14,688\n",
       "│    │    └─CNNBlock: 3-41               [1, 288, 14, 14]          3,456\n",
       "│    │    └─CNNBlock: 3-42               [1, 48, 14, 14]           13,968\n",
       "│    └─Bottleneck: 2-15                  [1, 80, 7, 7]             --\n",
       "│    │    └─CNNBlock: 3-43               [1, 288, 14, 14]          14,688\n",
       "│    │    └─CNNBlock: 3-44               [1, 288, 7, 7]            3,456\n",
       "│    │    └─CNNBlock: 3-45               [1, 80, 7, 7]             23,280\n",
       "│    └─Bottleneck: 2-16                  [1, 80, 7, 7]             --\n",
       "│    │    └─CNNBlock: 3-46               [1, 480, 7, 7]            39,840\n",
       "│    │    └─CNNBlock: 3-47               [1, 480, 7, 7]            5,760\n",
       "│    │    └─CNNBlock: 3-48               [1, 80, 7, 7]             38,640\n",
       "│    └─Bottleneck: 2-17                  [1, 80, 7, 7]             --\n",
       "│    │    └─CNNBlock: 3-49               [1, 480, 7, 7]            39,840\n",
       "│    │    └─CNNBlock: 3-50               [1, 480, 7, 7]            5,760\n",
       "│    │    └─CNNBlock: 3-51               [1, 80, 7, 7]             38,640\n",
       "│    └─Bottleneck: 2-18                  [1, 160, 7, 7]            --\n",
       "│    │    └─CNNBlock: 3-52               [1, 480, 7, 7]            39,840\n",
       "│    │    └─CNNBlock: 3-53               [1, 480, 7, 7]            5,760\n",
       "│    │    └─CNNBlock: 3-54               [1, 160, 7, 7]            77,280\n",
       "│    └─CNNBlock: 2-19                    [1, 1280, 7, 7]           --\n",
       "│    │    └─Conv2d: 3-55                 [1, 1280, 7, 7]           206,080\n",
       "│    │    └─ReLU6: 3-56                  [1, 1280, 7, 7]           --\n",
       "│    │    └─BatchNorm2d: 3-57            [1, 1280, 7, 7]           2,560\n",
       "==========================================================================================\n",
       "Total params: 696,952\n",
       "Trainable params: 696,952\n",
       "Non-trainable params: 0\n",
       "Total mult-adds (Units.MEGABYTES): 99.25\n",
       "==========================================================================================\n",
       "Input size (MB): 0.60\n",
       "Forward/backward pass size (MB): 57.93\n",
       "Params size (MB): 2.79\n",
       "Estimated Total Size (MB): 61.32\n",
       "=========================================================================================="
      ]
     },
     "execution_count": 35,
     "metadata": {},
     "output_type": "execute_result"
    }
   ],
   "source": [
    "summary(net, input_data=img)"
   ]
  },
  {
   "cell_type": "code",
   "execution_count": null,
   "id": "98ee37a0",
   "metadata": {},
   "outputs": [],
   "source": []
  }
 ],
 "metadata": {
  "kernelspec": {
   "display_name": "Python 3 (ipykernel)",
   "language": "python",
   "name": "python3"
  },
  "language_info": {
   "codemirror_mode": {
    "name": "ipython",
    "version": 3
   },
   "file_extension": ".py",
   "mimetype": "text/x-python",
   "name": "python",
   "nbconvert_exporter": "python",
   "pygments_lexer": "ipython3",
   "version": "3.11.2"
  }
 },
 "nbformat": 4,
 "nbformat_minor": 5
}
