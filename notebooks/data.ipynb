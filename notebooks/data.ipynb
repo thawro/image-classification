{
 "cells": [
  {
   "cell_type": "code",
   "execution_count": 2,
   "id": "3d15f412-c42a-43cd-999d-81bba815d7aa",
   "metadata": {
    "tags": []
   },
   "outputs": [
    {
     "name": "stdout",
     "output_type": "stream",
     "text": [
      "The autoreload extension is already loaded. To reload it, use:\n",
      "  %reload_ext autoreload\n"
     ]
    },
    {
     "name": "stderr",
     "output_type": "stream",
     "text": [
      "Global seed set to 42\n"
     ]
    }
   ],
   "source": [
    "%load_ext autoreload\n",
    "%autoreload 2\n",
    "\n",
    "import torch\n",
    "from src.architectures.feature_extractors.mobilenet import MobileNet\n",
    "from pytorch_lightning import seed_everything\n",
    "\n",
    "from torchinfo import summary\n",
    "\n",
    "seed_everything(42)\n",
    "img = torch.rand(1, 3, 224, 224)\n",
    "\n",
    "# summary(net, input_data=img)"
   ]
  },
  {
   "cell_type": "code",
   "execution_count": 9,
   "id": "f15c870e",
   "metadata": {},
   "outputs": [],
   "source": [
    "v2 = MobileNet(3, 0.9, \"v2\")\n",
    "v3_small = MobileNet(3, 0.9, \"v3_small\")\n",
    "v3_large = MobileNet(3, 1.0, \"v3_large\")"
   ]
  },
  {
   "cell_type": "code",
   "execution_count": 10,
   "id": "c47ae2db",
   "metadata": {},
   "outputs": [
    {
     "name": "stdout",
     "output_type": "stream",
     "text": [
      "conv_0 torch.Size([1, 32, 112, 112])\n",
      "bottleneck_0 torch.Size([1, 16, 112, 112])\n",
      "bottleneck_1 torch.Size([1, 24, 56, 56])\n",
      "bottleneck_2 torch.Size([1, 24, 56, 56])\n",
      "bottleneck_3 torch.Size([1, 32, 28, 28])\n",
      "bottleneck_4 torch.Size([1, 32, 28, 28])\n",
      "bottleneck_5 torch.Size([1, 32, 28, 28])\n",
      "bottleneck_6 torch.Size([1, 56, 14, 14])\n",
      "bottleneck_7 torch.Size([1, 56, 14, 14])\n",
      "bottleneck_8 torch.Size([1, 56, 14, 14])\n",
      "bottleneck_9 torch.Size([1, 56, 14, 14])\n",
      "bottleneck_10 torch.Size([1, 88, 14, 14])\n",
      "bottleneck_11 torch.Size([1, 88, 14, 14])\n",
      "bottleneck_12 torch.Size([1, 88, 14, 14])\n",
      "bottleneck_13 torch.Size([1, 144, 7, 7])\n",
      "bottleneck_14 torch.Size([1, 144, 7, 7])\n",
      "bottleneck_15 torch.Size([1, 144, 7, 7])\n",
      "last_stage torch.Size([1, 1280, 7, 7])\n"
     ]
    },
    {
     "data": {
      "text/plain": [
       "torch.Size([1, 1280, 7, 7])"
      ]
     },
     "execution_count": 10,
     "metadata": {},
     "output_type": "execute_result"
    }
   ],
   "source": [
    "v2(img).shape"
   ]
  },
  {
   "cell_type": "code",
   "execution_count": 8,
   "id": "062846be",
   "metadata": {},
   "outputs": [
    {
     "data": {
      "text/plain": [
       "144.0"
      ]
     },
     "execution_count": 8,
     "metadata": {},
     "output_type": "execute_result"
    }
   ],
   "source": [
    "0.9 * 160"
   ]
  },
  {
   "cell_type": "code",
   "execution_count": 99,
   "id": "aead61a2",
   "metadata": {},
   "outputs": [
    {
     "data": {
      "text/plain": [
       "torch.Size([1, 1024, 1, 1])"
      ]
     },
     "execution_count": 99,
     "metadata": {},
     "output_type": "execute_result"
    }
   ],
   "source": [
    "v3_small(img).shape\n"
   ]
  },
  {
   "cell_type": "code",
   "execution_count": 100,
   "id": "a29130e2",
   "metadata": {},
   "outputs": [
    {
     "data": {
      "text/plain": [
       "torch.Size([1, 1280, 1, 1])"
      ]
     },
     "execution_count": 100,
     "metadata": {},
     "output_type": "execute_result"
    },
    {
     "ename": "",
     "evalue": "",
     "output_type": "error",
     "traceback": [
      "\u001b[1;31mThe Kernel crashed while executing code in the the current cell or a previous cell. Please review the code in the cell(s) to identify a possible cause of the failure. Click <a href='https://aka.ms/vscodeJupyterKernelCrash'>here</a> for more info. View Jupyter <a href='command:jupyter.viewOutput'>log</a> for further details."
     ]
    }
   ],
   "source": [
    "v3_large(img).shape\n"
   ]
  },
  {
   "cell_type": "code",
   "execution_count": null,
   "id": "711adbde",
   "metadata": {},
   "outputs": [],
   "source": []
  }
 ],
 "metadata": {
  "kernelspec": {
   "display_name": "Python 3 (ipykernel)",
   "language": "python",
   "name": "python3"
  },
  "language_info": {
   "codemirror_mode": {
    "name": "ipython",
    "version": 3
   },
   "file_extension": ".py",
   "mimetype": "text/x-python",
   "name": "python",
   "nbconvert_exporter": "python",
   "pygments_lexer": "ipython3",
   "version": "3.11.2"
  }
 },
 "nbformat": 4,
 "nbformat_minor": 5
}
