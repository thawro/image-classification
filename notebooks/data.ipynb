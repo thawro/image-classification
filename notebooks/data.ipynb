{
 "cells": [
  {
   "cell_type": "code",
   "execution_count": 2,
   "id": "3d15f412-c42a-43cd-999d-81bba815d7aa",
   "metadata": {
    "tags": []
   },
   "outputs": [],
   "source": [
    "%load_ext autoreload\n",
    "%autoreload 2\n",
    "\n",
    "import torch\n",
    "from torchinfo import summary\n",
    "from src.architectures.feature_extractors.resnet import ResNet\n",
    "\n",
    "count_params = lambda model: sum(p.numel() for p in model.parameters() if p.requires_grad)\n",
    "\n",
    "img = torch.rand(1, 3, 224, 224)\n",
    "\n",
    "# summary(net, input_data=img)"
   ]
  },
  {
   "cell_type": "code",
   "execution_count": 59,
   "id": "54a89a7a",
   "metadata": {},
   "outputs": [],
   "source": [
    "net_local = ResNet(3, \"resnet152\", use_global_pool=True, load_from_torch=False, pretrained=False, freeze_extractor=False)\n",
    "net_torch = ResNet(3, \"resnet152\", use_global_pool=True, load_from_torch=True, pretrained=False, freeze_extractor=False)\n"
   ]
  },
  {
   "cell_type": "code",
   "execution_count": 60,
   "id": "c80c15a6",
   "metadata": {},
   "outputs": [
    {
     "data": {
      "text/plain": [
       "(torch.Size([1, 2048]), torch.Size([1, 2048]))"
      ]
     },
     "execution_count": 60,
     "metadata": {},
     "output_type": "execute_result"
    }
   ],
   "source": [
    "net_local(img).shape, net_torch(img).shape"
   ]
  },
  {
   "cell_type": "code",
   "execution_count": 61,
   "id": "e62a80bd",
   "metadata": {},
   "outputs": [
    {
     "data": {
      "text/plain": [
       "(58143808, 58143808)"
      ]
     },
     "execution_count": 61,
     "metadata": {},
     "output_type": "execute_result"
    }
   ],
   "source": [
    "count_params(net_local), count_params(net_torch)"
   ]
  },
  {
   "cell_type": "code",
   "execution_count": 62,
   "id": "6c2676c0",
   "metadata": {},
   "outputs": [
    {
     "data": {
      "text/plain": [
       "===========================================================================================================================================================\n",
       "Layer (type:depth-idx)                                  Input Shape               Output Shape              Param #                   Kernel Shape\n",
       "===========================================================================================================================================================\n",
       "ResNet152                                               [1, 3, 224, 224]          [1, 2048]                 --                        --\n",
       "├─Sequential: 1-1                                       --                        --                        --                        --\n",
       "│    └─CNNBlock: 2-1                                    [1, 3, 224, 224]          [1, 64, 55, 55]           --                        --\n",
       "│    │    └─Conv2d: 3-1                                 [1, 3, 224, 224]          [1, 64, 112, 112]         9,408                     [7, 7]\n",
       "│    │    └─BatchNorm2d: 3-2                            [1, 64, 112, 112]         [1, 64, 112, 112]         128                       --\n",
       "│    │    └─ReLU: 3-3                                   [1, 64, 112, 112]         [1, 64, 112, 112]         --                        --\n",
       "│    │    └─MaxPool2d: 3-4                              [1, 64, 112, 112]         [1, 64, 55, 55]           --                        3\n",
       "│    └─BottleneckResNetCore: 2-2                        [1, 64, 55, 55]           [1, 2048, 7, 7]           --                        --\n",
       "│    │    └─Sequential: 3-5                             [1, 64, 55, 55]           [1, 2048, 7, 7]           --                        --\n",
       "│    │    │    └─Sequential: 4-1                        [1, 64, 55, 55]           [1, 256, 55, 55]          215,808                   --\n",
       "│    │    │    └─Sequential: 4-2                        [1, 256, 55, 55]          [1, 512, 28, 28]          2,339,840                 --\n",
       "│    │    │    └─Sequential: 4-3                        [1, 512, 28, 28]          [1, 1024, 14, 14]         40,613,888                --\n",
       "│    │    │    └─Sequential: 4-4                        [1, 1024, 14, 14]         [1, 2048, 7, 7]           14,964,736                --\n",
       "│    └─AdaptiveAvgPool2d: 2-3                           [1, 2048, 7, 7]           [1, 2048, 1, 1]           --                        --\n",
       "│    └─Flatten: 2-4                                     [1, 2048, 1, 1]           [1, 2048]                 --                        --\n",
       "===========================================================================================================================================================\n",
       "Total params: 58,143,808\n",
       "Trainable params: 58,143,808\n",
       "Non-trainable params: 0\n",
       "Total mult-adds (Units.GIGABYTES): 11.48\n",
       "===========================================================================================================================================================\n",
       "Input size (MB): 0.60\n",
       "Forward/backward pass size (MB): 358.14\n",
       "Params size (MB): 232.58\n",
       "Estimated Total Size (MB): 591.32\n",
       "==========================================================================================================================================================="
      ]
     },
     "execution_count": 62,
     "metadata": {},
     "output_type": "execute_result"
    }
   ],
   "source": [
    "summary(net_local, input_data=img, depth=4, col_names=[\"input_size\", \"output_size\", \"num_params\", \"kernel_size\"])"
   ]
  },
  {
   "cell_type": "code",
   "execution_count": 63,
   "id": "0bf10774",
   "metadata": {},
   "outputs": [
    {
     "data": {
      "text/plain": [
       "======================================================================================================================================================\n",
       "Layer (type:depth-idx)                             Input Shape               Output Shape              Param #                   Kernel Shape\n",
       "======================================================================================================================================================\n",
       "ExternalFeatureExtractor                           [1, 3, 224, 224]          [1, 2048]                 --                        --\n",
       "├─Sequential: 1-1                                  --                        --                        --                        --\n",
       "│    └─ResNet: 2-1                                 [1, 3, 224, 224]          [1, 2048]                 --                        --\n",
       "│    │    └─Conv2d: 3-1                            [1, 3, 224, 224]          [1, 64, 112, 112]         9,408                     [7, 7]\n",
       "│    │    └─BatchNorm2d: 3-2                       [1, 64, 112, 112]         [1, 64, 112, 112]         128                       --\n",
       "│    │    └─ReLU: 3-3                              [1, 64, 112, 112]         [1, 64, 112, 112]         --                        --\n",
       "│    │    └─MaxPool2d: 3-4                         [1, 64, 112, 112]         [1, 64, 56, 56]           --                        3\n",
       "│    │    └─Sequential: 3-5                        [1, 64, 56, 56]           [1, 256, 56, 56]          215,808                   --\n",
       "│    │    └─Sequential: 3-6                        [1, 256, 56, 56]          [1, 512, 28, 28]          2,339,840                 --\n",
       "│    │    └─Sequential: 3-7                        [1, 512, 28, 28]          [1, 1024, 14, 14]         40,613,888                --\n",
       "│    │    └─Sequential: 3-8                        [1, 1024, 14, 14]         [1, 2048, 7, 7]           14,964,736                --\n",
       "│    │    └─AdaptiveAvgPool2d: 3-9                 [1, 2048, 7, 7]           [1, 2048, 1, 1]           --                        --\n",
       "│    │    └─Identity: 3-10                         [1, 2048]                 [1, 2048]                 --                        --\n",
       "│    └─Flatten: 2-2                                [1, 2048]                 [1, 2048]                 --                        --\n",
       "======================================================================================================================================================\n",
       "Total params: 58,143,808\n",
       "Trainable params: 58,143,808\n",
       "Non-trainable params: 0\n",
       "Total mult-adds (Units.GIGABYTES): 11.51\n",
       "======================================================================================================================================================\n",
       "Input size (MB): 0.60\n",
       "Forward/backward pass size (MB): 360.87\n",
       "Params size (MB): 232.58\n",
       "Estimated Total Size (MB): 594.04\n",
       "======================================================================================================================================================"
      ]
     },
     "execution_count": 63,
     "metadata": {},
     "output_type": "execute_result"
    }
   ],
   "source": [
    "summary(net_torch, input_data=img, col_names=[\"input_size\", \"output_size\", \"num_params\", \"kernel_size\"])"
   ]
  },
  {
   "cell_type": "code",
   "execution_count": null,
   "id": "abaeff7a",
   "metadata": {},
   "outputs": [],
   "source": []
  }
 ],
 "metadata": {
  "kernelspec": {
   "display_name": "image-classification-5tGgTKFW-py3.11",
   "language": "python",
   "name": "python3"
  },
  "language_info": {
   "codemirror_mode": {
    "name": "ipython",
    "version": 3
   },
   "file_extension": ".py",
   "mimetype": "text/x-python",
   "name": "python",
   "nbconvert_exporter": "python",
   "pygments_lexer": "ipython3",
   "version": "3.11.2"
  }
 },
 "nbformat": 4,
 "nbformat_minor": 5
}
