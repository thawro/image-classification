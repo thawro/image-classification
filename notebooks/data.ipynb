{
 "cells": [
  {
   "cell_type": "code",
   "execution_count": 28,
   "id": "3d15f412-c42a-43cd-999d-81bba815d7aa",
   "metadata": {
    "tags": []
   },
   "outputs": [
    {
     "name": "stdout",
     "output_type": "stream",
     "text": [
      "The autoreload extension is already loaded. To reload it, use:\n",
      "  %reload_ext autoreload\n"
     ]
    }
   ],
   "source": [
    "%load_ext autoreload\n",
    "%autoreload 2\n",
    "\n",
    "import torch\n",
    "from src.architectures.helpers import CNNBlock, SqueezeExcitationBlock\n",
    "\n",
    "from torchinfo import summary\n",
    "\n",
    "img = torch.rand(1, 3, 224, 224)"
   ]
  },
  {
   "cell_type": "code",
   "execution_count": 31,
   "id": "f925c428",
   "metadata": {},
   "outputs": [],
   "source": [
    "cnn_block = CNNBlock(3, 12, 3, 1, 0)\n",
    "\n",
    "se_conv = SqueezeExcitationBlock(\n",
    "    channels = 12,\n",
    "    block=cnn_block,\n",
    "    reduction_ratio=3\n",
    ")"
   ]
  },
  {
   "cell_type": "code",
   "execution_count": 36,
   "id": "1475d200",
   "metadata": {},
   "outputs": [
    {
     "data": {
      "text/plain": [
       "tensor([[[[-3.4180e-01,  3.2931e-01, -6.7161e-01,  ...,  1.9962e-01,\n",
       "           -3.3435e-02,  2.2320e-01],\n",
       "          [-5.1948e-01,  1.5836e-01, -1.7645e-01,  ...,  6.5331e-01,\n",
       "            2.3412e-01, -4.4200e-02],\n",
       "          [ 2.9854e-01, -6.3723e-01,  7.6901e-01,  ...,  1.9690e-01,\n",
       "           -5.9790e-01, -6.6897e-01],\n",
       "          ...,\n",
       "          [ 3.1003e-01, -5.3229e-01,  2.3585e-02,  ..., -5.4026e-01,\n",
       "           -1.6451e-01,  3.5951e-01],\n",
       "          [-6.7161e-01, -3.1952e-01, -1.2306e-01,  ..., -6.7161e-01,\n",
       "            4.3732e-02,  1.8555e-01],\n",
       "          [-6.5144e-01, -5.6744e-01,  5.4109e-01,  ..., -1.1315e-01,\n",
       "            8.9560e-01,  8.3474e-01]],\n",
       "\n",
       "         [[-3.4286e-01,  4.1478e-02,  4.3695e-01,  ..., -3.5954e-01,\n",
       "           -3.5954e-01, -2.1781e-01],\n",
       "          [-3.5954e-01, -3.5954e-01, -3.5954e-01,  ..., -1.0229e-01,\n",
       "           -3.5954e-01, -3.5954e-01],\n",
       "          [ 4.7661e-01,  2.0864e-01, -1.5757e-01,  ...,  1.6391e-01,\n",
       "            1.1190e+00, -3.5954e-01],\n",
       "          ...,\n",
       "          [-3.5954e-01, -3.5954e-01, -3.5954e-01,  ...,  8.2993e-01,\n",
       "            4.7366e-02, -3.5954e-01],\n",
       "          [-3.5954e-01, -3.5954e-01,  6.8807e-01,  ..., -3.5954e-01,\n",
       "           -3.5954e-01,  7.3194e-01],\n",
       "          [-1.1892e-01, -3.5954e-01, -3.5954e-01,  ..., -2.5376e-01,\n",
       "           -1.9002e-02,  1.2794e+00]],\n",
       "\n",
       "         [[-2.4256e-04, -2.4256e-04, -2.4256e-04,  ..., -2.4256e-04,\n",
       "           -2.4256e-04, -2.4256e-04],\n",
       "          [-2.4256e-04, -2.4256e-04, -2.4256e-04,  ..., -2.4256e-04,\n",
       "           -2.4256e-04, -2.4256e-04],\n",
       "          [-2.4256e-04, -2.4256e-04, -2.4256e-04,  ..., -2.4256e-04,\n",
       "           -2.4256e-04, -2.4256e-04],\n",
       "          ...,\n",
       "          [-2.4256e-04, -2.4256e-04, -2.4256e-04,  ..., -2.4256e-04,\n",
       "           -2.4256e-04, -2.4256e-04],\n",
       "          [-2.4256e-04, -2.4256e-04, -2.4256e-04,  ..., -2.4256e-04,\n",
       "           -2.4256e-04, -2.4256e-04],\n",
       "          [-2.4256e-04, -2.4256e-04, -2.4256e-04,  ..., -2.4256e-04,\n",
       "           -2.4256e-04, -2.4256e-04]],\n",
       "\n",
       "         ...,\n",
       "\n",
       "         [[-1.0876e-01, -5.1665e-01, -4.9839e-01,  ...,  1.4112e-01,\n",
       "            2.9072e-01, -5.2124e-01],\n",
       "          [-5.2124e-01,  1.9734e+00, -5.2124e-01,  ..., -5.2124e-01,\n",
       "           -5.2124e-01, -9.0358e-02],\n",
       "          [-5.2124e-01, -5.2124e-01,  1.6264e-02,  ..., -5.2124e-01,\n",
       "           -1.2728e-02,  8.0617e-01],\n",
       "          ...,\n",
       "          [ 1.4180e+00, -4.8947e-01, -5.2124e-01,  ..., -5.2124e-01,\n",
       "            1.7901e-01,  1.1599e+00],\n",
       "          [ 8.4799e-01, -5.2124e-01,  1.1009e+00,  ..., -5.2124e-01,\n",
       "            1.0523e+00, -5.2124e-01],\n",
       "          [-5.2124e-01,  1.3745e+00,  9.0920e-01,  ..., -1.0580e-01,\n",
       "            1.5627e+00,  5.9271e-01]],\n",
       "\n",
       "         [[ 6.4435e-01, -2.4376e-01,  4.9286e-01,  ..., -6.3037e-01,\n",
       "            1.7764e-01, -5.1674e-01],\n",
       "          [ 1.1859e-01, -2.7403e-01, -3.4114e-01,  ...,  3.6317e-03,\n",
       "            3.4887e-01, -2.4992e-01],\n",
       "          [-5.6487e-01,  4.0290e-01, -3.4743e-01,  ..., -9.0445e-03,\n",
       "           -7.6977e-02,  6.0896e-01],\n",
       "          ...,\n",
       "          [ 1.0919e-02,  4.3185e-01, -6.8958e-01,  ..., -2.7905e-01,\n",
       "           -4.0758e-01, -2.4910e-01],\n",
       "          [ 2.0890e-01, -6.8958e-01, -1.2990e-01,  ...,  8.8808e-02,\n",
       "            1.1676e-01,  2.9730e-01],\n",
       "          [-2.0939e-01, -3.0042e-01,  3.7712e-01,  ..., -2.6911e-01,\n",
       "            3.2681e-01, -3.4685e-01]],\n",
       "\n",
       "         [[ 2.4179e-01, -1.4675e-01,  7.1887e-01,  ..., -1.4373e-02,\n",
       "           -1.0082e+00, -2.1351e-01],\n",
       "          [ 6.3678e-01, -1.5312e-01, -1.1820e+00,  ..., -3.1720e-02,\n",
       "           -3.7873e-01, -6.9055e-01],\n",
       "          [-8.5824e-01,  2.0179e-02,  4.2242e-01,  ...,  4.0572e-01,\n",
       "            1.2829e+00, -8.6184e-02],\n",
       "          ...,\n",
       "          [-7.5465e-01,  4.9114e-01,  1.2617e-01,  ...,  5.8150e-01,\n",
       "            3.0828e-02, -7.9177e-01],\n",
       "          [ 5.1579e-01, -9.2301e-01, -5.7623e-01,  ..., -7.1075e-01,\n",
       "           -4.1110e-01, -3.0717e-02],\n",
       "          [-3.0554e-01, -1.4561e-01,  4.0360e-02,  ..., -2.2458e-01,\n",
       "           -1.2495e-01,  3.7511e-01]]]], grad_fn=<MulBackward0>)"
      ]
     },
     "execution_count": 36,
     "metadata": {},
     "output_type": "execute_result"
    }
   ],
   "source": [
    "se_conv(img)"
   ]
  },
  {
   "cell_type": "code",
   "execution_count": 41,
   "id": "ea37e5cf",
   "metadata": {},
   "outputs": [],
   "source": [
    "a = torch.Tensor([\n",
    "    [1, 2, 3, 4],\n",
    "    [4, 5, 6, 7],\n",
    "    [7, 8, 9, 10]\n",
    "])"
   ]
  },
  {
   "cell_type": "code",
   "execution_count": 42,
   "id": "6c029f0a",
   "metadata": {},
   "outputs": [],
   "source": [
    "b = torch.Tensor([2, 2, 1])"
   ]
  },
  {
   "cell_type": "code",
   "execution_count": 44,
   "id": "93ea530f",
   "metadata": {},
   "outputs": [
    {
     "data": {
      "text/plain": [
       "(torch.Size([3, 4]), torch.Size([3]))"
      ]
     },
     "execution_count": 44,
     "metadata": {},
     "output_type": "execute_result"
    }
   ],
   "source": [
    "a.shape, b.shape"
   ]
  },
  {
   "cell_type": "code",
   "execution_count": 46,
   "id": "50b0549f",
   "metadata": {},
   "outputs": [
    {
     "data": {
      "text/plain": [
       "tensor([[ 2.,  4.,  6.,  8.],\n",
       "        [ 8., 10., 12., 14.],\n",
       "        [ 7.,  8.,  9., 10.]])"
      ]
     },
     "execution_count": 46,
     "metadata": {},
     "output_type": "execute_result"
    }
   ],
   "source": [
    "a*b.unsqueeze(-1)"
   ]
  },
  {
   "cell_type": "code",
   "execution_count": null,
   "id": "c231dca7",
   "metadata": {},
   "outputs": [],
   "source": []
  },
  {
   "cell_type": "code",
   "execution_count": 25,
   "id": "a6aa31e1",
   "metadata": {},
   "outputs": [
    {
     "name": "stdout",
     "output_type": "stream",
     "text": [
      "3 [False, True, False, False, True, False, False, True] [96, 128, 128, 128, 256, 256, 256, 384, 384]\n"
     ]
    }
   ],
   "source": [
    "net = SqueezeNet(freq=3)"
   ]
  },
  {
   "cell_type": "code",
   "execution_count": 26,
   "id": "29bbc7bc",
   "metadata": {},
   "outputs": [
    {
     "data": {
      "text/plain": [
       "[96, 128, 128, 128, 256, 256, 256, 384, 384]"
      ]
     },
     "execution_count": 26,
     "metadata": {},
     "output_type": "execute_result"
    }
   ],
   "source": [
    "net.fb_in_channels"
   ]
  },
  {
   "cell_type": "code",
   "execution_count": 27,
   "id": "67f2569f",
   "metadata": {},
   "outputs": [
    {
     "name": "stdout",
     "output_type": "stream",
     "text": [
      "conv1 torch.Size([1, 96, 109, 109])\n",
      "maxpool1 torch.Size([1, 96, 54, 54])\n",
      "fire2 torch.Size([1, 128, 54, 54])\n",
      "fire3 torch.Size([1, 128, 54, 54])\n",
      "fire4 torch.Size([1, 128, 54, 54])\n",
      "maxpool4 torch.Size([1, 128, 26, 26])\n",
      "fire5 torch.Size([1, 256, 26, 26])\n",
      "fire6 torch.Size([1, 256, 26, 26])\n",
      "fire7 torch.Size([1, 256, 26, 26])\n",
      "fire8 torch.Size([1, 384, 26, 26])\n",
      "maxpool8 torch.Size([1, 384, 12, 12])\n",
      "fire9 torch.Size([1, 384, 12, 12])\n",
      "dropout9 torch.Size([1, 384, 12, 12])\n"
     ]
    }
   ],
   "source": [
    "out = net(img)"
   ]
  },
  {
   "cell_type": "code",
   "execution_count": 6,
   "id": "bbdea29a",
   "metadata": {},
   "outputs": [],
   "source": [
    "# summary(net, input_data=img)"
   ]
  },
  {
   "cell_type": "code",
   "execution_count": null,
   "id": "98ee37a0",
   "metadata": {},
   "outputs": [],
   "source": []
  }
 ],
 "metadata": {
  "kernelspec": {
   "display_name": "Python 3 (ipykernel)",
   "language": "python",
   "name": "python3"
  },
  "language_info": {
   "codemirror_mode": {
    "name": "ipython",
    "version": 3
   },
   "file_extension": ".py",
   "mimetype": "text/x-python",
   "name": "python",
   "nbconvert_exporter": "python",
   "pygments_lexer": "ipython3",
   "version": "3.11.2"
  }
 },
 "nbformat": 4,
 "nbformat_minor": 5
}
